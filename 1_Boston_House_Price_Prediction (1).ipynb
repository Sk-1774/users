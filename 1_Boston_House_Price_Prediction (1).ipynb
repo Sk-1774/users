{
  "cells": [
    {
      "cell_type": "markdown",
      "metadata": {
        "colab_type": "text",
        "id": "view-in-github"
      },
      "source": [
        "<a href=\"https://colab.research.google.com/github/ShivamD27/users/blob/main/1_Boston_House_Price_Prediction.ipynb\" target=\"_parent\"><img src=\"https://colab.research.google.com/assets/colab-badge.svg\" alt=\"Open In Colab\"/></a>"
      ]
    },
    {
      "cell_type": "code",
      "execution_count": 37,
      "metadata": {
        "colab": {
          "base_uri": "https://localhost:8080/",
          "height": 206
        },
        "id": "NwcENUehsvYm",
        "outputId": "c977b2d2-27dc-4b87-92ac-1588b15928d9"
      },
      "outputs": [
        {
          "data": {
            "application/vnd.google.colaboratory.intrinsic+json": {
              "summary": "{\n  \"name\": \"df\",\n  \"rows\": 506,\n  \"fields\": [\n    {\n      \"column\": \"CRIM\",\n      \"properties\": {\n        \"dtype\": \"number\",\n        \"std\": 8.720191850151599,\n        \"min\": 0.00632,\n        \"max\": 88.9762,\n        \"num_unique_values\": 484,\n        \"samples\": [\n          15.1772,\n          0.2896,\n          0.08308\n        ],\n        \"semantic_type\": \"\",\n        \"description\": \"\"\n      }\n    },\n    {\n      \"column\": \"ZN\",\n      \"properties\": {\n        \"dtype\": \"number\",\n        \"std\": 23.388876146265478,\n        \"min\": 0.0,\n        \"max\": 100.0,\n        \"num_unique_values\": 26,\n        \"samples\": [\n          25.0,\n          30.0,\n          18.0\n        ],\n        \"semantic_type\": \"\",\n        \"description\": \"\"\n      }\n    },\n    {\n      \"column\": \"INDUS\",\n      \"properties\": {\n        \"dtype\": \"number\",\n        \"std\": 6.83589649864144,\n        \"min\": 0.46,\n        \"max\": 27.74,\n        \"num_unique_values\": 76,\n        \"samples\": [\n          8.14,\n          1.47,\n          1.22\n        ],\n        \"semantic_type\": \"\",\n        \"description\": \"\"\n      }\n    },\n    {\n      \"column\": \"CHAS\",\n      \"properties\": {\n        \"dtype\": \"number\",\n        \"std\": 0.2553404809065679,\n        \"min\": 0.0,\n        \"max\": 1.0,\n        \"num_unique_values\": 2,\n        \"samples\": [\n          1.0,\n          0.0\n        ],\n        \"semantic_type\": \"\",\n        \"description\": \"\"\n      }\n    },\n    {\n      \"column\": \"NOX\",\n      \"properties\": {\n        \"dtype\": \"number\",\n        \"std\": 0.11587767566755595,\n        \"min\": 0.385,\n        \"max\": 0.871,\n        \"num_unique_values\": 81,\n        \"samples\": [\n          0.401,\n          0.538\n        ],\n        \"semantic_type\": \"\",\n        \"description\": \"\"\n      }\n    },\n    {\n      \"column\": \"RM\",\n      \"properties\": {\n        \"dtype\": \"number\",\n        \"std\": 0.7026171434153233,\n        \"min\": 3.561,\n        \"max\": 8.78,\n        \"num_unique_values\": 446,\n        \"samples\": [\n          6.849,\n          4.88\n        ],\n        \"semantic_type\": \"\",\n        \"description\": \"\"\n      }\n    },\n    {\n      \"column\": \"AGE\",\n      \"properties\": {\n        \"dtype\": \"number\",\n        \"std\": 27.99951300509237,\n        \"min\": 2.9,\n        \"max\": 100.0,\n        \"num_unique_values\": 348,\n        \"samples\": [\n          82.8,\n          88.4\n        ],\n        \"semantic_type\": \"\",\n        \"description\": \"\"\n      }\n    },\n    {\n      \"column\": \"DIS\",\n      \"properties\": {\n        \"dtype\": \"number\",\n        \"std\": 2.105710126627611,\n        \"min\": 1.1296,\n        \"max\": 12.1265,\n        \"num_unique_values\": 412,\n        \"samples\": [\n          2.2955,\n          4.2515\n        ],\n        \"semantic_type\": \"\",\n        \"description\": \"\"\n      }\n    },\n    {\n      \"column\": \"RAD\",\n      \"properties\": {\n        \"dtype\": \"number\",\n        \"std\": 8,\n        \"min\": 1,\n        \"max\": 24,\n        \"num_unique_values\": 9,\n        \"samples\": [\n          7,\n          2\n        ],\n        \"semantic_type\": \"\",\n        \"description\": \"\"\n      }\n    },\n    {\n      \"column\": \"TAX\",\n      \"properties\": {\n        \"dtype\": \"number\",\n        \"std\": 168,\n        \"min\": 187,\n        \"max\": 711,\n        \"num_unique_values\": 66,\n        \"samples\": [\n          370,\n          666\n        ],\n        \"semantic_type\": \"\",\n        \"description\": \"\"\n      }\n    },\n    {\n      \"column\": \"PTRATIO\",\n      \"properties\": {\n        \"dtype\": \"number\",\n        \"std\": 2.1649455237144406,\n        \"min\": 12.6,\n        \"max\": 22.0,\n        \"num_unique_values\": 46,\n        \"samples\": [\n          19.6,\n          15.6\n        ],\n        \"semantic_type\": \"\",\n        \"description\": \"\"\n      }\n    },\n    {\n      \"column\": \"B\",\n      \"properties\": {\n        \"dtype\": \"number\",\n        \"std\": 91.29486438415783,\n        \"min\": 0.32,\n        \"max\": 396.9,\n        \"num_unique_values\": 357,\n        \"samples\": [\n          396.24,\n          395.11\n        ],\n        \"semantic_type\": \"\",\n        \"description\": \"\"\n      }\n    },\n    {\n      \"column\": \"LSTAT\",\n      \"properties\": {\n        \"dtype\": \"number\",\n        \"std\": 7.155870815805251,\n        \"min\": 1.73,\n        \"max\": 37.97,\n        \"num_unique_values\": 438,\n        \"samples\": [\n          26.64,\n          7.51\n        ],\n        \"semantic_type\": \"\",\n        \"description\": \"\"\n      }\n    },\n    {\n      \"column\": \"MEDV\",\n      \"properties\": {\n        \"dtype\": \"number\",\n        \"std\": 9.197104087379818,\n        \"min\": 5.0,\n        \"max\": 50.0,\n        \"num_unique_values\": 229,\n        \"samples\": [\n          14.1,\n          22.5\n        ],\n        \"semantic_type\": \"\",\n        \"description\": \"\"\n      }\n    }\n  ]\n}",
              "type": "dataframe",
              "variable_name": "df"
            },
            "text/html": [
              "\n",
              "  <div id=\"df-c50bc9c8-f832-4395-8fd3-727fff6e5fff\" class=\"colab-df-container\">\n",
              "    <div>\n",
              "<style scoped>\n",
              "    .dataframe tbody tr th:only-of-type {\n",
              "        vertical-align: middle;\n",
              "    }\n",
              "\n",
              "    .dataframe tbody tr th {\n",
              "        vertical-align: top;\n",
              "    }\n",
              "\n",
              "    .dataframe thead th {\n",
              "        text-align: right;\n",
              "    }\n",
              "</style>\n",
              "<table border=\"1\" class=\"dataframe\">\n",
              "  <thead>\n",
              "    <tr style=\"text-align: right;\">\n",
              "      <th></th>\n",
              "      <th>CRIM</th>\n",
              "      <th>ZN</th>\n",
              "      <th>INDUS</th>\n",
              "      <th>CHAS</th>\n",
              "      <th>NOX</th>\n",
              "      <th>RM</th>\n",
              "      <th>AGE</th>\n",
              "      <th>DIS</th>\n",
              "      <th>RAD</th>\n",
              "      <th>TAX</th>\n",
              "      <th>PTRATIO</th>\n",
              "      <th>B</th>\n",
              "      <th>LSTAT</th>\n",
              "      <th>MEDV</th>\n",
              "    </tr>\n",
              "  </thead>\n",
              "  <tbody>\n",
              "    <tr>\n",
              "      <th>0</th>\n",
              "      <td>0.00632</td>\n",
              "      <td>18.0</td>\n",
              "      <td>2.31</td>\n",
              "      <td>0.0</td>\n",
              "      <td>0.538</td>\n",
              "      <td>6.575</td>\n",
              "      <td>65.2</td>\n",
              "      <td>4.0900</td>\n",
              "      <td>1</td>\n",
              "      <td>296</td>\n",
              "      <td>15.3</td>\n",
              "      <td>396.90</td>\n",
              "      <td>4.98</td>\n",
              "      <td>24.0</td>\n",
              "    </tr>\n",
              "    <tr>\n",
              "      <th>1</th>\n",
              "      <td>0.02731</td>\n",
              "      <td>0.0</td>\n",
              "      <td>7.07</td>\n",
              "      <td>0.0</td>\n",
              "      <td>0.469</td>\n",
              "      <td>6.421</td>\n",
              "      <td>78.9</td>\n",
              "      <td>4.9671</td>\n",
              "      <td>2</td>\n",
              "      <td>242</td>\n",
              "      <td>17.8</td>\n",
              "      <td>396.90</td>\n",
              "      <td>9.14</td>\n",
              "      <td>21.6</td>\n",
              "    </tr>\n",
              "    <tr>\n",
              "      <th>2</th>\n",
              "      <td>0.02729</td>\n",
              "      <td>0.0</td>\n",
              "      <td>7.07</td>\n",
              "      <td>0.0</td>\n",
              "      <td>0.469</td>\n",
              "      <td>7.185</td>\n",
              "      <td>61.1</td>\n",
              "      <td>4.9671</td>\n",
              "      <td>2</td>\n",
              "      <td>242</td>\n",
              "      <td>17.8</td>\n",
              "      <td>392.83</td>\n",
              "      <td>4.03</td>\n",
              "      <td>34.7</td>\n",
              "    </tr>\n",
              "    <tr>\n",
              "      <th>3</th>\n",
              "      <td>0.03237</td>\n",
              "      <td>0.0</td>\n",
              "      <td>2.18</td>\n",
              "      <td>0.0</td>\n",
              "      <td>0.458</td>\n",
              "      <td>6.998</td>\n",
              "      <td>45.8</td>\n",
              "      <td>6.0622</td>\n",
              "      <td>3</td>\n",
              "      <td>222</td>\n",
              "      <td>18.7</td>\n",
              "      <td>394.63</td>\n",
              "      <td>2.94</td>\n",
              "      <td>33.4</td>\n",
              "    </tr>\n",
              "    <tr>\n",
              "      <th>4</th>\n",
              "      <td>0.06905</td>\n",
              "      <td>0.0</td>\n",
              "      <td>2.18</td>\n",
              "      <td>0.0</td>\n",
              "      <td>0.458</td>\n",
              "      <td>7.147</td>\n",
              "      <td>54.2</td>\n",
              "      <td>6.0622</td>\n",
              "      <td>3</td>\n",
              "      <td>222</td>\n",
              "      <td>18.7</td>\n",
              "      <td>396.90</td>\n",
              "      <td>NaN</td>\n",
              "      <td>36.2</td>\n",
              "    </tr>\n",
              "  </tbody>\n",
              "</table>\n",
              "</div>\n",
              "    <div class=\"colab-df-buttons\">\n",
              "\n",
              "  <div class=\"colab-df-container\">\n",
              "    <button class=\"colab-df-convert\" onclick=\"convertToInteractive('df-c50bc9c8-f832-4395-8fd3-727fff6e5fff')\"\n",
              "            title=\"Convert this dataframe to an interactive table.\"\n",
              "            style=\"display:none;\">\n",
              "\n",
              "  <svg xmlns=\"http://www.w3.org/2000/svg\" height=\"24px\" viewBox=\"0 -960 960 960\">\n",
              "    <path d=\"M120-120v-720h720v720H120Zm60-500h600v-160H180v160Zm220 220h160v-160H400v160Zm0 220h160v-160H400v160ZM180-400h160v-160H180v160Zm440 0h160v-160H620v160ZM180-180h160v-160H180v160Zm440 0h160v-160H620v160Z\"/>\n",
              "  </svg>\n",
              "    </button>\n",
              "\n",
              "  <style>\n",
              "    .colab-df-container {\n",
              "      display:flex;\n",
              "      gap: 12px;\n",
              "    }\n",
              "\n",
              "    .colab-df-convert {\n",
              "      background-color: #E8F0FE;\n",
              "      border: none;\n",
              "      border-radius: 50%;\n",
              "      cursor: pointer;\n",
              "      display: none;\n",
              "      fill: #1967D2;\n",
              "      height: 32px;\n",
              "      padding: 0 0 0 0;\n",
              "      width: 32px;\n",
              "    }\n",
              "\n",
              "    .colab-df-convert:hover {\n",
              "      background-color: #E2EBFA;\n",
              "      box-shadow: 0px 1px 2px rgba(60, 64, 67, 0.3), 0px 1px 3px 1px rgba(60, 64, 67, 0.15);\n",
              "      fill: #174EA6;\n",
              "    }\n",
              "\n",
              "    .colab-df-buttons div {\n",
              "      margin-bottom: 4px;\n",
              "    }\n",
              "\n",
              "    [theme=dark] .colab-df-convert {\n",
              "      background-color: #3B4455;\n",
              "      fill: #D2E3FC;\n",
              "    }\n",
              "\n",
              "    [theme=dark] .colab-df-convert:hover {\n",
              "      background-color: #434B5C;\n",
              "      box-shadow: 0px 1px 3px 1px rgba(0, 0, 0, 0.15);\n",
              "      filter: drop-shadow(0px 1px 2px rgba(0, 0, 0, 0.3));\n",
              "      fill: #FFFFFF;\n",
              "    }\n",
              "  </style>\n",
              "\n",
              "    <script>\n",
              "      const buttonEl =\n",
              "        document.querySelector('#df-c50bc9c8-f832-4395-8fd3-727fff6e5fff button.colab-df-convert');\n",
              "      buttonEl.style.display =\n",
              "        google.colab.kernel.accessAllowed ? 'block' : 'none';\n",
              "\n",
              "      async function convertToInteractive(key) {\n",
              "        const element = document.querySelector('#df-c50bc9c8-f832-4395-8fd3-727fff6e5fff');\n",
              "        const dataTable =\n",
              "          await google.colab.kernel.invokeFunction('convertToInteractive',\n",
              "                                                    [key], {});\n",
              "        if (!dataTable) return;\n",
              "\n",
              "        const docLinkHtml = 'Like what you see? Visit the ' +\n",
              "          '<a target=\"_blank\" href=https://colab.research.google.com/notebooks/data_table.ipynb>data table notebook</a>'\n",
              "          + ' to learn more about interactive tables.';\n",
              "        element.innerHTML = '';\n",
              "        dataTable['output_type'] = 'display_data';\n",
              "        await google.colab.output.renderOutput(dataTable, element);\n",
              "        const docLink = document.createElement('div');\n",
              "        docLink.innerHTML = docLinkHtml;\n",
              "        element.appendChild(docLink);\n",
              "      }\n",
              "    </script>\n",
              "  </div>\n",
              "\n",
              "\n",
              "<div id=\"df-15909fa8-2ff7-492a-8379-5f087f882263\">\n",
              "  <button class=\"colab-df-quickchart\" onclick=\"quickchart('df-15909fa8-2ff7-492a-8379-5f087f882263')\"\n",
              "            title=\"Suggest charts\"\n",
              "            style=\"display:none;\">\n",
              "\n",
              "<svg xmlns=\"http://www.w3.org/2000/svg\" height=\"24px\"viewBox=\"0 0 24 24\"\n",
              "     width=\"24px\">\n",
              "    <g>\n",
              "        <path d=\"M19 3H5c-1.1 0-2 .9-2 2v14c0 1.1.9 2 2 2h14c1.1 0 2-.9 2-2V5c0-1.1-.9-2-2-2zM9 17H7v-7h2v7zm4 0h-2V7h2v10zm4 0h-2v-4h2v4z\"/>\n",
              "    </g>\n",
              "</svg>\n",
              "  </button>\n",
              "\n",
              "<style>\n",
              "  .colab-df-quickchart {\n",
              "      --bg-color: #E8F0FE;\n",
              "      --fill-color: #1967D2;\n",
              "      --hover-bg-color: #E2EBFA;\n",
              "      --hover-fill-color: #174EA6;\n",
              "      --disabled-fill-color: #AAA;\n",
              "      --disabled-bg-color: #DDD;\n",
              "  }\n",
              "\n",
              "  [theme=dark] .colab-df-quickchart {\n",
              "      --bg-color: #3B4455;\n",
              "      --fill-color: #D2E3FC;\n",
              "      --hover-bg-color: #434B5C;\n",
              "      --hover-fill-color: #FFFFFF;\n",
              "      --disabled-bg-color: #3B4455;\n",
              "      --disabled-fill-color: #666;\n",
              "  }\n",
              "\n",
              "  .colab-df-quickchart {\n",
              "    background-color: var(--bg-color);\n",
              "    border: none;\n",
              "    border-radius: 50%;\n",
              "    cursor: pointer;\n",
              "    display: none;\n",
              "    fill: var(--fill-color);\n",
              "    height: 32px;\n",
              "    padding: 0;\n",
              "    width: 32px;\n",
              "  }\n",
              "\n",
              "  .colab-df-quickchart:hover {\n",
              "    background-color: var(--hover-bg-color);\n",
              "    box-shadow: 0 1px 2px rgba(60, 64, 67, 0.3), 0 1px 3px 1px rgba(60, 64, 67, 0.15);\n",
              "    fill: var(--button-hover-fill-color);\n",
              "  }\n",
              "\n",
              "  .colab-df-quickchart-complete:disabled,\n",
              "  .colab-df-quickchart-complete:disabled:hover {\n",
              "    background-color: var(--disabled-bg-color);\n",
              "    fill: var(--disabled-fill-color);\n",
              "    box-shadow: none;\n",
              "  }\n",
              "\n",
              "  .colab-df-spinner {\n",
              "    border: 2px solid var(--fill-color);\n",
              "    border-color: transparent;\n",
              "    border-bottom-color: var(--fill-color);\n",
              "    animation:\n",
              "      spin 1s steps(1) infinite;\n",
              "  }\n",
              "\n",
              "  @keyframes spin {\n",
              "    0% {\n",
              "      border-color: transparent;\n",
              "      border-bottom-color: var(--fill-color);\n",
              "      border-left-color: var(--fill-color);\n",
              "    }\n",
              "    20% {\n",
              "      border-color: transparent;\n",
              "      border-left-color: var(--fill-color);\n",
              "      border-top-color: var(--fill-color);\n",
              "    }\n",
              "    30% {\n",
              "      border-color: transparent;\n",
              "      border-left-color: var(--fill-color);\n",
              "      border-top-color: var(--fill-color);\n",
              "      border-right-color: var(--fill-color);\n",
              "    }\n",
              "    40% {\n",
              "      border-color: transparent;\n",
              "      border-right-color: var(--fill-color);\n",
              "      border-top-color: var(--fill-color);\n",
              "    }\n",
              "    60% {\n",
              "      border-color: transparent;\n",
              "      border-right-color: var(--fill-color);\n",
              "    }\n",
              "    80% {\n",
              "      border-color: transparent;\n",
              "      border-right-color: var(--fill-color);\n",
              "      border-bottom-color: var(--fill-color);\n",
              "    }\n",
              "    90% {\n",
              "      border-color: transparent;\n",
              "      border-bottom-color: var(--fill-color);\n",
              "    }\n",
              "  }\n",
              "</style>\n",
              "\n",
              "  <script>\n",
              "    async function quickchart(key) {\n",
              "      const quickchartButtonEl =\n",
              "        document.querySelector('#' + key + ' button');\n",
              "      quickchartButtonEl.disabled = true;  // To prevent multiple clicks.\n",
              "      quickchartButtonEl.classList.add('colab-df-spinner');\n",
              "      try {\n",
              "        const charts = await google.colab.kernel.invokeFunction(\n",
              "            'suggestCharts', [key], {});\n",
              "      } catch (error) {\n",
              "        console.error('Error during call to suggestCharts:', error);\n",
              "      }\n",
              "      quickchartButtonEl.classList.remove('colab-df-spinner');\n",
              "      quickchartButtonEl.classList.add('colab-df-quickchart-complete');\n",
              "    }\n",
              "    (() => {\n",
              "      let quickchartButtonEl =\n",
              "        document.querySelector('#df-15909fa8-2ff7-492a-8379-5f087f882263 button');\n",
              "      quickchartButtonEl.style.display =\n",
              "        google.colab.kernel.accessAllowed ? 'block' : 'none';\n",
              "    })();\n",
              "  </script>\n",
              "</div>\n",
              "\n",
              "    </div>\n",
              "  </div>\n"
            ],
            "text/plain": [
              "      CRIM    ZN  INDUS  CHAS    NOX     RM   AGE     DIS  RAD  TAX  PTRATIO  \\\n",
              "0  0.00632  18.0   2.31   0.0  0.538  6.575  65.2  4.0900    1  296     15.3   \n",
              "1  0.02731   0.0   7.07   0.0  0.469  6.421  78.9  4.9671    2  242     17.8   \n",
              "2  0.02729   0.0   7.07   0.0  0.469  7.185  61.1  4.9671    2  242     17.8   \n",
              "3  0.03237   0.0   2.18   0.0  0.458  6.998  45.8  6.0622    3  222     18.7   \n",
              "4  0.06905   0.0   2.18   0.0  0.458  7.147  54.2  6.0622    3  222     18.7   \n",
              "\n",
              "        B  LSTAT  MEDV  \n",
              "0  396.90   4.98  24.0  \n",
              "1  396.90   9.14  21.6  \n",
              "2  392.83   4.03  34.7  \n",
              "3  394.63   2.94  33.4  \n",
              "4  396.90    NaN  36.2  "
            ]
          },
          "execution_count": 37,
          "metadata": {},
          "output_type": "execute_result"
        }
      ],
      "source": [
        "# from sklearn.datasets import load_boston/\n",
        "import pandas as pd\n",
        "import seaborn as sns\n",
        "import\n",
        "\n",
        "# boston_dataset = load_boston()\n",
        "\n",
        "df = pd.read_csv('/content/HousingData.csv')\n",
        "\n",
        "df.head()"
      ]
    },
    {
      "cell_type": "code",
      "execution_count": 5,
      "metadata": {
        "colab": {
          "base_uri": "https://localhost:8080/"
        },
        "id": "z6zX1HKzJTny",
        "outputId": "c56e8830-d130-4d30-91d6-fb1af01b5255"
      },
      "outputs": [
        {
          "data": {
            "text/plain": [
              "Index(['RM', 'LSTAT', 'PTRATIO', 'MEDV'], dtype='object')"
            ]
          },
          "execution_count": 5,
          "metadata": {},
          "output_type": "execute_result"
        }
      ],
      "source": [
        "df.columns"
      ]
    },
    {
      "cell_type": "code",
      "execution_count": 51,
      "metadata": {
        "id": "g0KG1HSlKaYz"
      },
      "outputs": [],
      "source": [
        "df = df.dropna()"
      ]
    },
    {
      "cell_type": "code",
      "execution_count": 52,
      "metadata": {
        "colab": {
          "base_uri": "https://localhost:8080/"
        },
        "id": "lSzf9Me3KeeZ",
        "outputId": "38b51183-257b-4ca9-8f69-ebfe8106aae5"
      },
      "outputs": [
        {
          "data": {
            "text/plain": [
              "(394, 14)"
            ]
          },
          "execution_count": 52,
          "metadata": {},
          "output_type": "execute_result"
        }
      ],
      "source": [
        "df.shape"
      ]
    },
    {
      "cell_type": "code",
      "execution_count": 53,
      "metadata": {
        "colab": {
          "base_uri": "https://localhost:8080/"
        },
        "id": "vIHPs2xPKi-W",
        "outputId": "e5432e90-0207-4c83-f55c-7be818a9aae1"
      },
      "outputs": [
        {
          "data": {
            "text/plain": [
              "CRIM       0\n",
              "ZN         0\n",
              "INDUS      0\n",
              "CHAS       0\n",
              "NOX        0\n",
              "RM         0\n",
              "AGE        0\n",
              "DIS        0\n",
              "RAD        0\n",
              "TAX        0\n",
              "PTRATIO    0\n",
              "B          0\n",
              "LSTAT      0\n",
              "MEDV       0\n",
              "dtype: int64"
            ]
          },
          "execution_count": 53,
          "metadata": {},
          "output_type": "execute_result"
        }
      ],
      "source": [
        "df.isnull().sum()\n"
      ]
    },
    {
      "cell_type": "code",
      "execution_count": 35,
      "metadata": {
        "id": "wCBuVF1xMbSH"
      },
      "outputs": [],
      "source": [
        "correlation = df.corr()\n"
      ]
    },
    {
      "cell_type": "code",
      "execution_count": 39,
      "metadata": {
        "colab": {
          "base_uri": "https://localhost:8080/",
          "height": 496
        },
        "id": "3xq-fG55Mnb_",
        "outputId": "f9e8d0e6-038e-4973-c601-eee5647c53b7"
      },
      "outputs": [
        {
          "data": {
            "text/plain": [
              "<Axes: >"
            ]
          },
          "execution_count": 39,
          "metadata": {},
          "output_type": "execute_result"
        },
        {
          "data": {
            "image/png": "[encoded data removed]",
            "text/plain": [
              "<Figure size 640x480 with 2 Axes>"
            ]
          },
          "metadata": {},
          "output_type": "display_data"
        }
      ],
      "source": [
        "# plt.figure(figsize=(10,10))\n",
        "sns.heatmap(correlation, cbar= True, square = True, fmt= '.1f', annot = True, annot_kws= {'size':8}, cmap='Blues')"
      ]
    },
    {
      "cell_type": "code",
      "execution_count": null,
      "metadata": {
        "id": "dxALLl5w_fHf"
      },
      "outputs": [],
      "source": [
        "# If load_boston does not work then download the data and use this.\n",
        "# Data : https://github.com/afnan47/sem8/blob/master/DL/1_boston_housing.csv\n",
        "# import pandas as pd\n",
        "# df = pd.read_csv(\"./1_boston_housing.csv\")"
      ]
    },
    {
      "cell_type": "code",
      "execution_count": 54,
      "metadata": {
        "colab": {
          "base_uri": "https://localhost:8080/"
        },
        "id": "cf9TmslfNRtV",
        "outputId": "8be4d0e0-b521-4db2-dd32-0c15fd2c62f7"
      },
      "outputs": [
        {
          "data": {
            "text/plain": [
              "Index(['CRIM', 'ZN', 'INDUS', 'CHAS', 'NOX', 'RM', 'AGE', 'DIS', 'RAD', 'TAX',\n",
              "       'PTRATIO', 'B', 'LSTAT', 'MEDV'],\n",
              "      dtype='object')"
            ]
          },
          "execution_count": 54,
          "metadata": {},
          "output_type": "execute_result"
        }
      ],
      "source": [
        "df.columns"
      ]
    },
    {
      "cell_type": "code",
      "execution_count": 56,
      "metadata": {
        "colab": {
          "base_uri": "https://localhost:8080/"
        },
        "id": "ro2fsuH6NRZX",
        "outputId": "a0da0230-24e8-43ff-b0b5-6c2d2b86835f"
      },
      "outputs": [
        {
          "data": {
            "text/plain": [
              "Index(['INDUS', 'RM', 'TAX', 'PTRATIO', 'LSTAT', 'MEDV'], dtype='object')"
            ]
          },
          "execution_count": 56,
          "metadata": {},
          "output_type": "execute_result"
        }
      ],
      "source": [
        "X.columns"
      ]
    },
    {
      "cell_type": "code",
      "execution_count": 57,
      "metadata": {
        "id": "4FEDjg8rsyi0"
      },
      "outputs": [],
      "source": [
        "from sklearn.model_selection import train_test_split\n",
        "\n",
        "# X = df[df.columns['INDUS','RM','PTRATIO','TAX','LSTAT']]\n",
        "X = df.drop(['CRIM', 'ZN', 'CHAS', 'NOX', 'AGE', 'DIS', 'RAD', 'B','MEDV'], axis = 1)\n",
        "y = df.loc[:, df.columns == 'MEDV']\n",
        "X_train, X_test, y_train, y_test = train_test_split(X, y, test_size=0.3, random_state=123)"
      ]
    },
    {
      "cell_type": "code",
      "execution_count": null,
      "metadata": {
        "id": "5ra2iUkpOvAA"
      },
      "outputs": [],
      "source": []
    },
    {
      "cell_type": "code",
      "execution_count": 58,
      "metadata": {
        "id": "fKWNkbEI_fHg"
      },
      "outputs": [],
      "source": [
        "from sklearn.preprocessing import MinMaxScaler\n",
        "mms = MinMaxScaler()\n",
        "mms.fit(X_train)\n",
        "X_train = mms.transform(X_train)\n",
        "X_test = mms.transform(X_test)"
      ]
    },
    {
      "cell_type": "code",
      "execution_count": 59,
      "metadata": {
        "colab": {
          "base_uri": "https://localhost:8080/"
        },
        "id": "hlUb2HcyLLdH",
        "outputId": "94d71a7b-3f32-4b91-c909-e00a892f8298"
      },
      "outputs": [
        {
          "data": {
            "text/plain": [
              "(275, 5)"
            ]
          },
          "execution_count": 59,
          "metadata": {},
          "output_type": "execute_result"
        }
      ],
      "source": [
        "X_train.shape"
      ]
    },
    {
      "cell_type": "code",
      "execution_count": 62,
      "metadata": {
        "colab": {
          "base_uri": "https://localhost:8080/"
        },
        "id": "VL8VMy_fs3fl",
        "outputId": "faaa8fe1-5f51-43bd-b885-bc081cb1b832"
      },
      "outputs": [
        {
          "name": "stdout",
          "output_type": "stream",
          "text": [
            "Model: \"sequential_7\"\n",
            "_________________________________________________________________\n",
            " Layer (type)                Output Shape              Param #   \n",
            "=================================================================\n",
            " dense_1 (Dense)             (None, 128)               768       \n",
            "                                                                 \n",
            " dense_2 (Dense)             (None, 64)                8256      \n",
            "                                                                 \n",
            " dense_output (Dense)        (None, 1)                 65        \n",
            "                                                                 \n",
            "=================================================================\n",
            "Total params: 9089 (35.50 KB)\n",
            "Trainable params: 9089 (35.50 KB)\n",
            "Non-trainable params: 0 (0.00 Byte)\n",
            "_________________________________________________________________\n"
          ]
        }
      ],
      "source": [
        "from tensorflow.keras.models import Sequential\n",
        "from tensorflow.keras.layers import Dense\n",
        "\n",
        "model = Sequential()\n",
        "\n",
        "model.add(Dense(128, input_shape=(5, ), activation='relu', name='dense_1'))\n",
        "model.add(Dense(64, activation='relu', name='dense_2'))\n",
        "model.add(Dense(1, activation='linear', name='dense_output'))\n",
        "\n",
        "model.compile(optimizer='adam', loss='mse', metrics=['mae'])\n",
        "model.summary()"
      ]
    },
    {
      "cell_type": "code",
      "execution_count": 63,
      "metadata": {
        "colab": {
          "base_uri": "https://localhost:8080/"
        },
        "id": "Y7m71ooKs5of",
        "outputId": "9eeb8afa-6757-4a86-96bf-c16038740901"
      },
      "outputs": [
        {
          "name": "stdout",
          "output_type": "stream",
          "text": [
            "Epoch 1/100\n",
            "9/9 [==============================] - 1s 26ms/step - loss: 566.1090 - mae: 21.9427 - val_loss: 536.8289 - val_mae: 21.7025\n",
            "Epoch 2/100\n",
            "9/9 [==============================] - 0s 5ms/step - loss: 540.6894 - mae: 21.3326 - val_loss: 507.6623 - val_mae: 20.9935\n",
            "Epoch 3/100\n",
            "9/9 [==============================] - 0s 6ms/step - loss: 509.0347 - mae: 20.5233 - val_loss: 467.7259 - val_mae: 19.9755\n",
            "Epoch 4/100\n",
            "9/9 [==============================] - 0s 8ms/step - loss: 465.4424 - mae: 19.3719 - val_loss: 413.6072 - val_mae: 18.4971\n",
            "Epoch 5/100\n",
            "9/9 [==============================] - 0s 9ms/step - loss: 408.0445 - mae: 17.6985 - val_loss: 342.7809 - val_mae: 16.4189\n",
            "Epoch 6/100\n",
            "9/9 [==============================] - 0s 6ms/step - loss: 336.3674 - mae: 15.5177 - val_loss: 261.6447 - val_mae: 13.9939\n",
            "Epoch 7/100\n",
            "9/9 [==============================] - 0s 6ms/step - loss: 258.9601 - mae: 12.9313 - val_loss: 184.3167 - val_mae: 10.8945\n",
            "Epoch 8/100\n",
            "9/9 [==============================] - 0s 6ms/step - loss: 193.6393 - mae: 10.8945 - val_loss: 132.8448 - val_mae: 8.4289\n",
            "Epoch 9/100\n",
            "9/9 [==============================] - 0s 7ms/step - loss: 155.3113 - mae: 9.5328 - val_loss: 113.6307 - val_mae: 7.7529\n",
            "Epoch 10/100\n",
            "9/9 [==============================] - 0s 6ms/step - loss: 146.7250 - mae: 9.3253 - val_loss: 108.9377 - val_mae: 8.0747\n",
            "Epoch 11/100\n",
            "9/9 [==============================] - 0s 6ms/step - loss: 139.4281 - mae: 9.0942 - val_loss: 99.5120 - val_mae: 7.6884\n",
            "Epoch 12/100\n",
            "9/9 [==============================] - 0s 6ms/step - loss: 128.7845 - mae: 8.6671 - val_loss: 90.3155 - val_mae: 7.1360\n",
            "Epoch 13/100\n",
            "9/9 [==============================] - 0s 6ms/step - loss: 119.1350 - mae: 8.2689 - val_loss: 82.7745 - val_mae: 6.7104\n",
            "Epoch 14/100\n",
            "9/9 [==============================] - 0s 8ms/step - loss: 110.9932 - mae: 7.9014 - val_loss: 75.4132 - val_mae: 6.3800\n",
            "Epoch 15/100\n",
            "9/9 [==============================] - 0s 5ms/step - loss: 102.7957 - mae: 7.5445 - val_loss: 68.3544 - val_mae: 6.0000\n",
            "Epoch 16/100\n",
            "9/9 [==============================] - 0s 6ms/step - loss: 94.9727 - mae: 7.1746 - val_loss: 61.6011 - val_mae: 5.6594\n",
            "Epoch 17/100\n",
            "9/9 [==============================] - 0s 6ms/step - loss: 86.9583 - mae: 6.8076 - val_loss: 55.2479 - val_mae: 5.3689\n",
            "Epoch 18/100\n",
            "9/9 [==============================] - 0s 6ms/step - loss: 79.4164 - mae: 6.4342 - val_loss: 49.5231 - val_mae: 5.0643\n",
            "Epoch 19/100\n",
            "9/9 [==============================] - 0s 6ms/step - loss: 72.1611 - mae: 6.0758 - val_loss: 42.8655 - val_mae: 4.7852\n",
            "Epoch 20/100\n",
            "9/9 [==============================] - 0s 6ms/step - loss: 64.9888 - mae: 5.7265 - val_loss: 36.8681 - val_mae: 4.4965\n",
            "Epoch 21/100\n",
            "9/9 [==============================] - 0s 7ms/step - loss: 59.1368 - mae: 5.4219 - val_loss: 32.5733 - val_mae: 4.2264\n",
            "Epoch 22/100\n",
            "9/9 [==============================] - 0s 7ms/step - loss: 53.5893 - mae: 5.1117 - val_loss: 28.3353 - val_mae: 4.0028\n",
            "Epoch 23/100\n",
            "9/9 [==============================] - 0s 6ms/step - loss: 48.6952 - mae: 4.8173 - val_loss: 25.4748 - val_mae: 3.8260\n",
            "Epoch 24/100\n",
            "9/9 [==============================] - 0s 5ms/step - loss: 44.5703 - mae: 4.5880 - val_loss: 22.2370 - val_mae: 3.6087\n",
            "Epoch 25/100\n",
            "9/9 [==============================] - 0s 6ms/step - loss: 40.8513 - mae: 4.4493 - val_loss: 19.2494 - val_mae: 3.4693\n",
            "Epoch 26/100\n",
            "9/9 [==============================] - 0s 6ms/step - loss: 38.1784 - mae: 4.3817 - val_loss: 17.4936 - val_mae: 3.3535\n",
            "Epoch 27/100\n",
            "9/9 [==============================] - 0s 8ms/step - loss: 35.7390 - mae: 4.2390 - val_loss: 16.0929 - val_mae: 3.2402\n",
            "Epoch 28/100\n",
            "9/9 [==============================] - 0s 6ms/step - loss: 33.5163 - mae: 4.0755 - val_loss: 15.2678 - val_mae: 3.1088\n",
            "Epoch 29/100\n",
            "9/9 [==============================] - 0s 6ms/step - loss: 31.8796 - mae: 3.9282 - val_loss: 14.3145 - val_mae: 3.0083\n",
            "Epoch 30/100\n",
            "9/9 [==============================] - 0s 8ms/step - loss: 30.5431 - mae: 3.8787 - val_loss: 12.9518 - val_mae: 2.9408\n",
            "Epoch 31/100\n",
            "9/9 [==============================] - 0s 6ms/step - loss: 29.3758 - mae: 3.7843 - val_loss: 12.7443 - val_mae: 2.8358\n",
            "Epoch 32/100\n",
            "9/9 [==============================] - 0s 6ms/step - loss: 28.2751 - mae: 3.6927 - val_loss: 11.4911 - val_mae: 2.7543\n",
            "Epoch 33/100\n",
            "9/9 [==============================] - 0s 6ms/step - loss: 27.3677 - mae: 3.6426 - val_loss: 11.1310 - val_mae: 2.6905\n",
            "Epoch 34/100\n",
            "9/9 [==============================] - 0s 8ms/step - loss: 26.6605 - mae: 3.6201 - val_loss: 10.4692 - val_mae: 2.6123\n",
            "Epoch 35/100\n",
            "9/9 [==============================] - 0s 7ms/step - loss: 25.8867 - mae: 3.5216 - val_loss: 10.7381 - val_mae: 2.5803\n",
            "Epoch 36/100\n",
            "9/9 [==============================] - 0s 7ms/step - loss: 25.3984 - mae: 3.4466 - val_loss: 10.7205 - val_mae: 2.5491\n",
            "Epoch 37/100\n",
            "9/9 [==============================] - 0s 6ms/step - loss: 24.9516 - mae: 3.3996 - val_loss: 10.1414 - val_mae: 2.4756\n",
            "Epoch 38/100\n",
            "9/9 [==============================] - 0s 7ms/step - loss: 24.5050 - mae: 3.3805 - val_loss: 9.8258 - val_mae: 2.4206\n",
            "Epoch 39/100\n",
            "9/9 [==============================] - 0s 6ms/step - loss: 24.2781 - mae: 3.3430 - val_loss: 9.4038 - val_mae: 2.3525\n",
            "Epoch 40/100\n",
            "9/9 [==============================] - 0s 6ms/step - loss: 24.0649 - mae: 3.4438 - val_loss: 8.1916 - val_mae: 2.3346\n",
            "Epoch 41/100\n",
            "9/9 [==============================] - 0s 7ms/step - loss: 24.2827 - mae: 3.5041 - val_loss: 8.3125 - val_mae: 2.2241\n",
            "Epoch 42/100\n",
            "9/9 [==============================] - 0s 6ms/step - loss: 23.0813 - mae: 3.2877 - val_loss: 9.0394 - val_mae: 2.2202\n",
            "Epoch 43/100\n",
            "9/9 [==============================] - 0s 8ms/step - loss: 22.9247 - mae: 3.2178 - val_loss: 8.9266 - val_mae: 2.2017\n",
            "Epoch 44/100\n",
            "9/9 [==============================] - 0s 6ms/step - loss: 22.5872 - mae: 3.2086 - val_loss: 8.2418 - val_mae: 2.1568\n",
            "Epoch 45/100\n",
            "9/9 [==============================] - 0s 6ms/step - loss: 22.4952 - mae: 3.2639 - val_loss: 7.5529 - val_mae: 2.1224\n",
            "Epoch 46/100\n",
            "9/9 [==============================] - 0s 6ms/step - loss: 22.2974 - mae: 3.2595 - val_loss: 7.8354 - val_mae: 2.1167\n",
            "Epoch 47/100\n",
            "9/9 [==============================] - 0s 6ms/step - loss: 22.1287 - mae: 3.1523 - val_loss: 8.5372 - val_mae: 2.2216\n",
            "Epoch 48/100\n",
            "9/9 [==============================] - 0s 6ms/step - loss: 21.8546 - mae: 3.1245 - val_loss: 7.9417 - val_mae: 2.1544\n",
            "Epoch 49/100\n",
            "9/9 [==============================] - 0s 6ms/step - loss: 21.7804 - mae: 3.1479 - val_loss: 7.6156 - val_mae: 2.1176\n",
            "Epoch 50/100\n",
            "9/9 [==============================] - 0s 6ms/step - loss: 21.5497 - mae: 3.1078 - val_loss: 7.8639 - val_mae: 2.1756\n",
            "Epoch 51/100\n",
            "9/9 [==============================] - 0s 8ms/step - loss: 21.3266 - mae: 3.0823 - val_loss: 7.7532 - val_mae: 2.1716\n",
            "Epoch 52/100\n",
            "9/9 [==============================] - 0s 6ms/step - loss: 21.2985 - mae: 3.0911 - val_loss: 7.3871 - val_mae: 2.1219\n",
            "Epoch 53/100\n",
            "9/9 [==============================] - 0s 6ms/step - loss: 21.0595 - mae: 3.0836 - val_loss: 7.4253 - val_mae: 2.1348\n",
            "Epoch 54/100\n",
            "9/9 [==============================] - 0s 7ms/step - loss: 20.9339 - mae: 3.0537 - val_loss: 7.5088 - val_mae: 2.1540\n",
            "Epoch 55/100\n",
            "9/9 [==============================] - 0s 6ms/step - loss: 20.8171 - mae: 3.0528 - val_loss: 7.1676 - val_mae: 2.1051\n",
            "Epoch 56/100\n",
            "9/9 [==============================] - 0s 6ms/step - loss: 20.7366 - mae: 3.0609 - val_loss: 7.0148 - val_mae: 2.0854\n",
            "Epoch 57/100\n",
            "9/9 [==============================] - 0s 8ms/step - loss: 20.6130 - mae: 3.0645 - val_loss: 6.9414 - val_mae: 2.0706\n",
            "Epoch 58/100\n",
            "9/9 [==============================] - 0s 6ms/step - loss: 20.5564 - mae: 3.0684 - val_loss: 7.0439 - val_mae: 2.0986\n",
            "Epoch 59/100\n",
            "9/9 [==============================] - 0s 6ms/step - loss: 20.4631 - mae: 3.0499 - val_loss: 7.0225 - val_mae: 2.1023\n",
            "Epoch 60/100\n",
            "9/9 [==============================] - 0s 8ms/step - loss: 20.3746 - mae: 3.0087 - val_loss: 7.5031 - val_mae: 2.1912\n",
            "Epoch 61/100\n",
            "9/9 [==============================] - 0s 6ms/step - loss: 20.3607 - mae: 2.9870 - val_loss: 7.4401 - val_mae: 2.1760\n",
            "Epoch 62/100\n",
            "9/9 [==============================] - 0s 5ms/step - loss: 20.2127 - mae: 3.0003 - val_loss: 6.7166 - val_mae: 2.0435\n",
            "Epoch 63/100\n",
            "9/9 [==============================] - 0s 5ms/step - loss: 20.2417 - mae: 3.0671 - val_loss: 6.6292 - val_mae: 2.0271\n",
            "Epoch 64/100\n",
            "9/9 [==============================] - 0s 6ms/step - loss: 20.0857 - mae: 2.9724 - val_loss: 7.4045 - val_mae: 2.1723\n",
            "Epoch 65/100\n",
            "9/9 [==============================] - 0s 9ms/step - loss: 20.0302 - mae: 2.9708 - val_loss: 6.7648 - val_mae: 2.0587\n",
            "Epoch 66/100\n",
            "9/9 [==============================] - 0s 7ms/step - loss: 19.9680 - mae: 3.0380 - val_loss: 6.5234 - val_mae: 2.0135\n",
            "Epoch 67/100\n",
            "9/9 [==============================] - 0s 6ms/step - loss: 19.9397 - mae: 2.9897 - val_loss: 7.0331 - val_mae: 2.1218\n",
            "Epoch 68/100\n",
            "9/9 [==============================] - 0s 7ms/step - loss: 19.7954 - mae: 2.9553 - val_loss: 6.9963 - val_mae: 2.1100\n",
            "Epoch 69/100\n",
            "9/9 [==============================] - 0s 6ms/step - loss: 19.7340 - mae: 2.9442 - val_loss: 7.1011 - val_mae: 2.1208\n",
            "Epoch 70/100\n",
            "9/9 [==============================] - 0s 7ms/step - loss: 19.7014 - mae: 2.9410 - val_loss: 6.7996 - val_mae: 2.0750\n",
            "Epoch 71/100\n",
            "9/9 [==============================] - 0s 6ms/step - loss: 19.6053 - mae: 2.9952 - val_loss: 6.4034 - val_mae: 1.9743\n",
            "Epoch 72/100\n",
            "9/9 [==============================] - 0s 9ms/step - loss: 19.6013 - mae: 3.0019 - val_loss: 6.8635 - val_mae: 2.0935\n",
            "Epoch 73/100\n",
            "9/9 [==============================] - 0s 6ms/step - loss: 19.5399 - mae: 2.9310 - val_loss: 6.7990 - val_mae: 2.0886\n",
            "Epoch 74/100\n",
            "9/9 [==============================] - 0s 9ms/step - loss: 19.3735 - mae: 2.9800 - val_loss: 6.3300 - val_mae: 1.9954\n",
            "Epoch 75/100\n",
            "9/9 [==============================] - 0s 6ms/step - loss: 19.3706 - mae: 3.0067 - val_loss: 6.3651 - val_mae: 2.0245\n",
            "Epoch 76/100\n",
            "9/9 [==============================] - 0s 6ms/step - loss: 19.2258 - mae: 2.9227 - val_loss: 7.0311 - val_mae: 2.1507\n",
            "Epoch 77/100\n",
            "9/9 [==============================] - 0s 8ms/step - loss: 19.2012 - mae: 2.8949 - val_loss: 6.5002 - val_mae: 2.0520\n",
            "Epoch 78/100\n",
            "9/9 [==============================] - 0s 8ms/step - loss: 19.1495 - mae: 2.8961 - val_loss: 6.8256 - val_mae: 2.0981\n",
            "Epoch 79/100\n",
            "9/9 [==============================] - 0s 6ms/step - loss: 19.0505 - mae: 2.8803 - val_loss: 6.7597 - val_mae: 2.0790\n",
            "Epoch 80/100\n",
            "9/9 [==============================] - 0s 9ms/step - loss: 18.9851 - mae: 2.9090 - val_loss: 6.3560 - val_mae: 1.9942\n",
            "Epoch 81/100\n",
            "9/9 [==============================] - 0s 6ms/step - loss: 18.9300 - mae: 2.9087 - val_loss: 6.2902 - val_mae: 1.9884\n",
            "Epoch 82/100\n",
            "9/9 [==============================] - 0s 8ms/step - loss: 19.2111 - mae: 3.0555 - val_loss: 5.8008 - val_mae: 1.7866\n",
            "Epoch 83/100\n",
            "9/9 [==============================] - 0s 8ms/step - loss: 18.8754 - mae: 2.9353 - val_loss: 6.8350 - val_mae: 2.0736\n",
            "Epoch 84/100\n",
            "9/9 [==============================] - 0s 6ms/step - loss: 18.8415 - mae: 2.8873 - val_loss: 6.2074 - val_mae: 1.9558\n",
            "Epoch 85/100\n",
            "9/9 [==============================] - 0s 7ms/step - loss: 18.6852 - mae: 2.9050 - val_loss: 6.1138 - val_mae: 1.9323\n",
            "Epoch 86/100\n",
            "9/9 [==============================] - 0s 6ms/step - loss: 18.6196 - mae: 2.9217 - val_loss: 6.1386 - val_mae: 1.9304\n",
            "Epoch 87/100\n",
            "9/9 [==============================] - 0s 6ms/step - loss: 18.8018 - mae: 2.8853 - val_loss: 6.8242 - val_mae: 2.0741\n",
            "Epoch 88/100\n",
            "9/9 [==============================] - 0s 6ms/step - loss: 18.4964 - mae: 2.8866 - val_loss: 6.1817 - val_mae: 1.9540\n",
            "Epoch 89/100\n",
            "9/9 [==============================] - 0s 8ms/step - loss: 18.4920 - mae: 2.8858 - val_loss: 6.2699 - val_mae: 1.9859\n",
            "Epoch 90/100\n",
            "9/9 [==============================] - 0s 8ms/step - loss: 18.3506 - mae: 2.8734 - val_loss: 6.2997 - val_mae: 1.9939\n",
            "Epoch 91/100\n",
            "9/9 [==============================] - 0s 8ms/step - loss: 18.3020 - mae: 2.8622 - val_loss: 6.3265 - val_mae: 2.0038\n",
            "Epoch 92/100\n",
            "9/9 [==============================] - 0s 6ms/step - loss: 18.2552 - mae: 2.8527 - val_loss: 6.1861 - val_mae: 1.9761\n",
            "Epoch 93/100\n",
            "9/9 [==============================] - 0s 6ms/step - loss: 18.2227 - mae: 2.8502 - val_loss: 6.3058 - val_mae: 2.0053\n",
            "Epoch 94/100\n",
            "9/9 [==============================] - 0s 7ms/step - loss: 18.2345 - mae: 2.8531 - val_loss: 6.2131 - val_mae: 1.9893\n",
            "Epoch 95/100\n",
            "9/9 [==============================] - 0s 6ms/step - loss: 18.1027 - mae: 2.8217 - val_loss: 6.5974 - val_mae: 2.0643\n",
            "Epoch 96/100\n",
            "9/9 [==============================] - 0s 6ms/step - loss: 18.2613 - mae: 2.8900 - val_loss: 5.7251 - val_mae: 1.8504\n",
            "Epoch 97/100\n",
            "9/9 [==============================] - 0s 6ms/step - loss: 18.0282 - mae: 2.8995 - val_loss: 6.2214 - val_mae: 1.9918\n",
            "Epoch 98/100\n",
            "9/9 [==============================] - 0s 6ms/step - loss: 18.0217 - mae: 2.8174 - val_loss: 6.8759 - val_mae: 2.0944\n",
            "Epoch 99/100\n",
            "9/9 [==============================] - 0s 6ms/step - loss: 18.1769 - mae: 2.8724 - val_loss: 6.0555 - val_mae: 1.9354\n",
            "Epoch 100/100\n",
            "9/9 [==============================] - 0s 7ms/step - loss: 17.7869 - mae: 2.8151 - val_loss: 6.8845 - val_mae: 2.0717\n"
          ]
        }
      ],
      "source": [
        "history = model.fit(X_train, y_train, epochs=100, validation_split=0.05, verbose = 1)\n"
      ]
    },
    {
      "cell_type": "code",
      "execution_count": 64,
      "metadata": {
        "colab": {
          "base_uri": "https://localhost:8080/"
        },
        "id": "MzY8zjL5s9jS",
        "outputId": "1db053f6-f71c-420f-da67-729240bf861b"
      },
      "outputs": [
        {
          "name": "stdout",
          "output_type": "stream",
          "text": [
            "4/4 [==============================] - 0s 4ms/step - loss: 18.6326 - mae: 2.9482\n",
            "Mean squared error on test data:  18.632598876953125\n",
            "Mean absolute error on test data:  2.948171377182007\n"
          ]
        }
      ],
      "source": [
        "mse_nn, mae_nn = model.evaluate(X_test, y_test)\n",
        "\n",
        "print('Mean squared error on test data: ', mse_nn)\n",
        "print('Mean absolute error on test data: ', mae_nn)"
      ]
    },
    {
      "cell_type": "code",
      "execution_count": null,
      "metadata": {
        "id": "p1Y3ZtEYKJm9"
      },
      "outputs": [],
      "source": []
    },
    {
      "cell_type": "markdown",
      "metadata": {
        "id": "d4PnB9PJPRnk"
      },
      "source": [
        "PRACTICE WITH BUDS"
      ]
    },
    {
      "cell_type": "code",
      "execution_count": 66,
      "metadata": {
        "id": "1KFIXfD0PUKj"
      },
      "outputs": [],
      "source": [
        "import pandas as pd\n",
        "import seaborn as sns\n",
        "import numpy as np\n",
        "from tensorflow.keras.models import Sequential\n",
        "from tensorflow.keras.layers import Dense\n",
        "\n"
      ]
    },
    {
      "cell_type": "code",
      "execution_count": 67,
      "metadata": {
        "colab": {
          "base_uri": "https://localhost:8080/",
          "height": 206
        },
        "id": "XqQEARDWP2Tc",
        "outputId": "93dbec94-eef5-4553-8251-d949ebe63557"
      },
      "outputs": [
        {
          "data": {
            "application/vnd.google.colaboratory.intrinsic+json": {
              "summary": "{\n  \"name\": \"dff\",\n  \"rows\": 506,\n  \"fields\": [\n    {\n      \"column\": \"CRIM\",\n      \"properties\": {\n        \"dtype\": \"number\",\n        \"std\": 8.720191850151599,\n        \"min\": 0.00632,\n        \"max\": 88.9762,\n        \"num_unique_values\": 484,\n        \"samples\": [\n          15.1772,\n          0.2896,\n          0.08308\n        ],\n        \"semantic_type\": \"\",\n        \"description\": \"\"\n      }\n    },\n    {\n      \"column\": \"ZN\",\n      \"properties\": {\n        \"dtype\": \"number\",\n        \"std\": 23.388876146265478,\n        \"min\": 0.0,\n        \"max\": 100.0,\n        \"num_unique_values\": 26,\n        \"samples\": [\n          25.0,\n          30.0,\n          18.0\n        ],\n        \"semantic_type\": \"\",\n        \"description\": \"\"\n      }\n    },\n    {\n      \"column\": \"INDUS\",\n      \"properties\": {\n        \"dtype\": \"number\",\n        \"std\": 6.83589649864144,\n        \"min\": 0.46,\n        \"max\": 27.74,\n        \"num_unique_values\": 76,\n        \"samples\": [\n          8.14,\n          1.47,\n          1.22\n        ],\n        \"semantic_type\": \"\",\n        \"description\": \"\"\n      }\n    },\n    {\n      \"column\": \"CHAS\",\n      \"properties\": {\n        \"dtype\": \"number\",\n        \"std\": 0.2553404809065679,\n        \"min\": 0.0,\n        \"max\": 1.0,\n        \"num_unique_values\": 2,\n        \"samples\": [\n          1.0,\n          0.0\n        ],\n        \"semantic_type\": \"\",\n        \"description\": \"\"\n      }\n    },\n    {\n      \"column\": \"NOX\",\n      \"properties\": {\n        \"dtype\": \"number\",\n        \"std\": 0.11587767566755595,\n        \"min\": 0.385,\n        \"max\": 0.871,\n        \"num_unique_values\": 81,\n        \"samples\": [\n          0.401,\n          0.538\n        ],\n        \"semantic_type\": \"\",\n        \"description\": \"\"\n      }\n    },\n    {\n      \"column\": \"RM\",\n      \"properties\": {\n        \"dtype\": \"number\",\n        \"std\": 0.7026171434153233,\n        \"min\": 3.561,\n        \"max\": 8.78,\n        \"num_unique_values\": 446,\n        \"samples\": [\n          6.849,\n          4.88\n        ],\n        \"semantic_type\": \"\",\n        \"description\": \"\"\n      }\n    },\n    {\n      \"column\": \"AGE\",\n      \"properties\": {\n        \"dtype\": \"number\",\n        \"std\": 27.99951300509237,\n        \"min\": 2.9,\n        \"max\": 100.0,\n        \"num_unique_values\": 348,\n        \"samples\": [\n          82.8,\n          88.4\n        ],\n        \"semantic_type\": \"\",\n        \"description\": \"\"\n      }\n    },\n    {\n      \"column\": \"DIS\",\n      \"properties\": {\n        \"dtype\": \"number\",\n        \"std\": 2.105710126627611,\n        \"min\": 1.1296,\n        \"max\": 12.1265,\n        \"num_unique_values\": 412,\n        \"samples\": [\n          2.2955,\n          4.2515\n        ],\n        \"semantic_type\": \"\",\n        \"description\": \"\"\n      }\n    },\n    {\n      \"column\": \"RAD\",\n      \"properties\": {\n        \"dtype\": \"number\",\n        \"std\": 8,\n        \"min\": 1,\n        \"max\": 24,\n        \"num_unique_values\": 9,\n        \"samples\": [\n          7,\n          2\n        ],\n        \"semantic_type\": \"\",\n        \"description\": \"\"\n      }\n    },\n    {\n      \"column\": \"TAX\",\n      \"properties\": {\n        \"dtype\": \"number\",\n        \"std\": 168,\n        \"min\": 187,\n        \"max\": 711,\n        \"num_unique_values\": 66,\n        \"samples\": [\n          370,\n          666\n        ],\n        \"semantic_type\": \"\",\n        \"description\": \"\"\n      }\n    },\n    {\n      \"column\": \"PTRATIO\",\n      \"properties\": {\n        \"dtype\": \"number\",\n        \"std\": 2.1649455237144406,\n        \"min\": 12.6,\n        \"max\": 22.0,\n        \"num_unique_values\": 46,\n        \"samples\": [\n          19.6,\n          15.6\n        ],\n        \"semantic_type\": \"\",\n        \"description\": \"\"\n      }\n    },\n    {\n      \"column\": \"B\",\n      \"properties\": {\n        \"dtype\": \"number\",\n        \"std\": 91.29486438415783,\n        \"min\": 0.32,\n        \"max\": 396.9,\n        \"num_unique_values\": 357,\n        \"samples\": [\n          396.24,\n          395.11\n        ],\n        \"semantic_type\": \"\",\n        \"description\": \"\"\n      }\n    },\n    {\n      \"column\": \"LSTAT\",\n      \"properties\": {\n        \"dtype\": \"number\",\n        \"std\": 7.155870815805251,\n        \"min\": 1.73,\n        \"max\": 37.97,\n        \"num_unique_values\": 438,\n        \"samples\": [\n          26.64,\n          7.51\n        ],\n        \"semantic_type\": \"\",\n        \"description\": \"\"\n      }\n    },\n    {\n      \"column\": \"MEDV\",\n      \"properties\": {\n        \"dtype\": \"number\",\n        \"std\": 9.197104087379818,\n        \"min\": 5.0,\n        \"max\": 50.0,\n        \"num_unique_values\": 229,\n        \"samples\": [\n          14.1,\n          22.5\n        ],\n        \"semantic_type\": \"\",\n        \"description\": \"\"\n      }\n    }\n  ]\n}",
              "type": "dataframe",
              "variable_name": "dff"
            },
            "text/html": [
              "\n",
              "  <div id=\"df-2a0ba2c9-ebd7-42c8-b057-24dd0ed8eacc\" class=\"colab-df-container\">\n",
              "    <div>\n",
              "<style scoped>\n",
              "    .dataframe tbody tr th:only-of-type {\n",
              "        vertical-align: middle;\n",
              "    }\n",
              "\n",
              "    .dataframe tbody tr th {\n",
              "        vertical-align: top;\n",
              "    }\n",
              "\n",
              "    .dataframe thead th {\n",
              "        text-align: right;\n",
              "    }\n",
              "</style>\n",
              "<table border=\"1\" class=\"dataframe\">\n",
              "  <thead>\n",
              "    <tr style=\"text-align: right;\">\n",
              "      <th></th>\n",
              "      <th>CRIM</th>\n",
              "      <th>ZN</th>\n",
              "      <th>INDUS</th>\n",
              "      <th>CHAS</th>\n",
              "      <th>NOX</th>\n",
              "      <th>RM</th>\n",
              "      <th>AGE</th>\n",
              "      <th>DIS</th>\n",
              "      <th>RAD</th>\n",
              "      <th>TAX</th>\n",
              "      <th>PTRATIO</th>\n",
              "      <th>B</th>\n",
              "      <th>LSTAT</th>\n",
              "      <th>MEDV</th>\n",
              "    </tr>\n",
              "  </thead>\n",
              "  <tbody>\n",
              "    <tr>\n",
              "      <th>0</th>\n",
              "      <td>0.00632</td>\n",
              "      <td>18.0</td>\n",
              "      <td>2.31</td>\n",
              "      <td>0.0</td>\n",
              "      <td>0.538</td>\n",
              "      <td>6.575</td>\n",
              "      <td>65.2</td>\n",
              "      <td>4.0900</td>\n",
              "      <td>1</td>\n",
              "      <td>296</td>\n",
              "      <td>15.3</td>\n",
              "      <td>396.90</td>\n",
              "      <td>4.98</td>\n",
              "      <td>24.0</td>\n",
              "    </tr>\n",
              "    <tr>\n",
              "      <th>1</th>\n",
              "      <td>0.02731</td>\n",
              "      <td>0.0</td>\n",
              "      <td>7.07</td>\n",
              "      <td>0.0</td>\n",
              "      <td>0.469</td>\n",
              "      <td>6.421</td>\n",
              "      <td>78.9</td>\n",
              "      <td>4.9671</td>\n",
              "      <td>2</td>\n",
              "      <td>242</td>\n",
              "      <td>17.8</td>\n",
              "      <td>396.90</td>\n",
              "      <td>9.14</td>\n",
              "      <td>21.6</td>\n",
              "    </tr>\n",
              "    <tr>\n",
              "      <th>2</th>\n",
              "      <td>0.02729</td>\n",
              "      <td>0.0</td>\n",
              "      <td>7.07</td>\n",
              "      <td>0.0</td>\n",
              "      <td>0.469</td>\n",
              "      <td>7.185</td>\n",
              "      <td>61.1</td>\n",
              "      <td>4.9671</td>\n",
              "      <td>2</td>\n",
              "      <td>242</td>\n",
              "      <td>17.8</td>\n",
              "      <td>392.83</td>\n",
              "      <td>4.03</td>\n",
              "      <td>34.7</td>\n",
              "    </tr>\n",
              "    <tr>\n",
              "      <th>3</th>\n",
              "      <td>0.03237</td>\n",
              "      <td>0.0</td>\n",
              "      <td>2.18</td>\n",
              "      <td>0.0</td>\n",
              "      <td>0.458</td>\n",
              "      <td>6.998</td>\n",
              "      <td>45.8</td>\n",
              "      <td>6.0622</td>\n",
              "      <td>3</td>\n",
              "      <td>222</td>\n",
              "      <td>18.7</td>\n",
              "      <td>394.63</td>\n",
              "      <td>2.94</td>\n",
              "      <td>33.4</td>\n",
              "    </tr>\n",
              "    <tr>\n",
              "      <th>4</th>\n",
              "      <td>0.06905</td>\n",
              "      <td>0.0</td>\n",
              "      <td>2.18</td>\n",
              "      <td>0.0</td>\n",
              "      <td>0.458</td>\n",
              "      <td>7.147</td>\n",
              "      <td>54.2</td>\n",
              "      <td>6.0622</td>\n",
              "      <td>3</td>\n",
              "      <td>222</td>\n",
              "      <td>18.7</td>\n",
              "      <td>396.90</td>\n",
              "      <td>NaN</td>\n",
              "      <td>36.2</td>\n",
              "    </tr>\n",
              "  </tbody>\n",
              "</table>\n",
              "</div>\n",
              "    <div class=\"colab-df-buttons\">\n",
              "\n",
              "  <div class=\"colab-df-container\">\n",
              "    <button class=\"colab-df-convert\" onclick=\"convertToInteractive('df-2a0ba2c9-ebd7-42c8-b057-24dd0ed8eacc')\"\n",
              "            title=\"Convert this dataframe to an interactive table.\"\n",
              "            style=\"display:none;\">\n",
              "\n",
              "  <svg xmlns=\"http://www.w3.org/2000/svg\" height=\"24px\" viewBox=\"0 -960 960 960\">\n",
              "    <path d=\"M120-120v-720h720v720H120Zm60-500h600v-160H180v160Zm220 220h160v-160H400v160Zm0 220h160v-160H400v160ZM180-400h160v-160H180v160Zm440 0h160v-160H620v160ZM180-180h160v-160H180v160Zm440 0h160v-160H620v160Z\"/>\n",
              "  </svg>\n",
              "    </button>\n",
              "\n",
              "  <style>\n",
              "    .colab-df-container {\n",
              "      display:flex;\n",
              "      gap: 12px;\n",
              "    }\n",
              "\n",
              "    .colab-df-convert {\n",
              "      background-color: #E8F0FE;\n",
              "      border: none;\n",
              "      border-radius: 50%;\n",
              "      cursor: pointer;\n",
              "      display: none;\n",
              "      fill: #1967D2;\n",
              "      height: 32px;\n",
              "      padding: 0 0 0 0;\n",
              "      width: 32px;\n",
              "    }\n",
              "\n",
              "    .colab-df-convert:hover {\n",
              "      background-color: #E2EBFA;\n",
              "      box-shadow: 0px 1px 2px rgba(60, 64, 67, 0.3), 0px 1px 3px 1px rgba(60, 64, 67, 0.15);\n",
              "      fill: #174EA6;\n",
              "    }\n",
              "\n",
              "    .colab-df-buttons div {\n",
              "      margin-bottom: 4px;\n",
              "    }\n",
              "\n",
              "    [theme=dark] .colab-df-convert {\n",
              "      background-color: #3B4455;\n",
              "      fill: #D2E3FC;\n",
              "    }\n",
              "\n",
              "    [theme=dark] .colab-df-convert:hover {\n",
              "      background-color: #434B5C;\n",
              "      box-shadow: 0px 1px 3px 1px rgba(0, 0, 0, 0.15);\n",
              "      filter: drop-shadow(0px 1px 2px rgba(0, 0, 0, 0.3));\n",
              "      fill: #FFFFFF;\n",
              "    }\n",
              "  </style>\n",
              "\n",
              "    <script>\n",
              "      const buttonEl =\n",
              "        document.querySelector('#df-2a0ba2c9-ebd7-42c8-b057-24dd0ed8eacc button.colab-df-convert');\n",
              "      buttonEl.style.display =\n",
              "        google.colab.kernel.accessAllowed ? 'block' : 'none';\n",
              "\n",
              "      async function convertToInteractive(key) {\n",
              "        const element = document.querySelector('#df-2a0ba2c9-ebd7-42c8-b057-24dd0ed8eacc');\n",
              "        const dataTable =\n",
              "          await google.colab.kernel.invokeFunction('convertToInteractive',\n",
              "                                                    [key], {});\n",
              "        if (!dataTable) return;\n",
              "\n",
              "        const docLinkHtml = 'Like what you see? Visit the ' +\n",
              "          '<a target=\"_blank\" href=https://colab.research.google.com/notebooks/data_table.ipynb>data table notebook</a>'\n",
              "          + ' to learn more about interactive tables.';\n",
              "        element.innerHTML = '';\n",
              "        dataTable['output_type'] = 'display_data';\n",
              "        await google.colab.output.renderOutput(dataTable, element);\n",
              "        const docLink = document.createElement('div');\n",
              "        docLink.innerHTML = docLinkHtml;\n",
              "        element.appendChild(docLink);\n",
              "      }\n",
              "    </script>\n",
              "  </div>\n",
              "\n",
              "\n",
              "<div id=\"df-5f0da798-fd20-46fb-a26c-16338bb5e95e\">\n",
              "  <button class=\"colab-df-quickchart\" onclick=\"quickchart('df-5f0da798-fd20-46fb-a26c-16338bb5e95e')\"\n",
              "            title=\"Suggest charts\"\n",
              "            style=\"display:none;\">\n",
              "\n",
              "<svg xmlns=\"http://www.w3.org/2000/svg\" height=\"24px\"viewBox=\"0 0 24 24\"\n",
              "     width=\"24px\">\n",
              "    <g>\n",
              "        <path d=\"M19 3H5c-1.1 0-2 .9-2 2v14c0 1.1.9 2 2 2h14c1.1 0 2-.9 2-2V5c0-1.1-.9-2-2-2zM9 17H7v-7h2v7zm4 0h-2V7h2v10zm4 0h-2v-4h2v4z\"/>\n",
              "    </g>\n",
              "</svg>\n",
              "  </button>\n",
              "\n",
              "<style>\n",
              "  .colab-df-quickchart {\n",
              "      --bg-color: #E8F0FE;\n",
              "      --fill-color: #1967D2;\n",
              "      --hover-bg-color: #E2EBFA;\n",
              "      --hover-fill-color: #174EA6;\n",
              "      --disabled-fill-color: #AAA;\n",
              "      --disabled-bg-color: #DDD;\n",
              "  }\n",
              "\n",
              "  [theme=dark] .colab-df-quickchart {\n",
              "      --bg-color: #3B4455;\n",
              "      --fill-color: #D2E3FC;\n",
              "      --hover-bg-color: #434B5C;\n",
              "      --hover-fill-color: #FFFFFF;\n",
              "      --disabled-bg-color: #3B4455;\n",
              "      --disabled-fill-color: #666;\n",
              "  }\n",
              "\n",
              "  .colab-df-quickchart {\n",
              "    background-color: var(--bg-color);\n",
              "    border: none;\n",
              "    border-radius: 50%;\n",
              "    cursor: pointer;\n",
              "    display: none;\n",
              "    fill: var(--fill-color);\n",
              "    height: 32px;\n",
              "    padding: 0;\n",
              "    width: 32px;\n",
              "  }\n",
              "\n",
              "  .colab-df-quickchart:hover {\n",
              "    background-color: var(--hover-bg-color);\n",
              "    box-shadow: 0 1px 2px rgba(60, 64, 67, 0.3), 0 1px 3px 1px rgba(60, 64, 67, 0.15);\n",
              "    fill: var(--button-hover-fill-color);\n",
              "  }\n",
              "\n",
              "  .colab-df-quickchart-complete:disabled,\n",
              "  .colab-df-quickchart-complete:disabled:hover {\n",
              "    background-color: var(--disabled-bg-color);\n",
              "    fill: var(--disabled-fill-color);\n",
              "    box-shadow: none;\n",
              "  }\n",
              "\n",
              "  .colab-df-spinner {\n",
              "    border: 2px solid var(--fill-color);\n",
              "    border-color: transparent;\n",
              "    border-bottom-color: var(--fill-color);\n",
              "    animation:\n",
              "      spin 1s steps(1) infinite;\n",
              "  }\n",
              "\n",
              "  @keyframes spin {\n",
              "    0% {\n",
              "      border-color: transparent;\n",
              "      border-bottom-color: var(--fill-color);\n",
              "      border-left-color: var(--fill-color);\n",
              "    }\n",
              "    20% {\n",
              "      border-color: transparent;\n",
              "      border-left-color: var(--fill-color);\n",
              "      border-top-color: var(--fill-color);\n",
              "    }\n",
              "    30% {\n",
              "      border-color: transparent;\n",
              "      border-left-color: var(--fill-color);\n",
              "      border-top-color: var(--fill-color);\n",
              "      border-right-color: var(--fill-color);\n",
              "    }\n",
              "    40% {\n",
              "      border-color: transparent;\n",
              "      border-right-color: var(--fill-color);\n",
              "      border-top-color: var(--fill-color);\n",
              "    }\n",
              "    60% {\n",
              "      border-color: transparent;\n",
              "      border-right-color: var(--fill-color);\n",
              "    }\n",
              "    80% {\n",
              "      border-color: transparent;\n",
              "      border-right-color: var(--fill-color);\n",
              "      border-bottom-color: var(--fill-color);\n",
              "    }\n",
              "    90% {\n",
              "      border-color: transparent;\n",
              "      border-bottom-color: var(--fill-color);\n",
              "    }\n",
              "  }\n",
              "</style>\n",
              "\n",
              "  <script>\n",
              "    async function quickchart(key) {\n",
              "      const quickchartButtonEl =\n",
              "        document.querySelector('#' + key + ' button');\n",
              "      quickchartButtonEl.disabled = true;  // To prevent multiple clicks.\n",
              "      quickchartButtonEl.classList.add('colab-df-spinner');\n",
              "      try {\n",
              "        const charts = await google.colab.kernel.invokeFunction(\n",
              "            'suggestCharts', [key], {});\n",
              "      } catch (error) {\n",
              "        console.error('Error during call to suggestCharts:', error);\n",
              "      }\n",
              "      quickchartButtonEl.classList.remove('colab-df-spinner');\n",
              "      quickchartButtonEl.classList.add('colab-df-quickchart-complete');\n",
              "    }\n",
              "    (() => {\n",
              "      let quickchartButtonEl =\n",
              "        document.querySelector('#df-5f0da798-fd20-46fb-a26c-16338bb5e95e button');\n",
              "      quickchartButtonEl.style.display =\n",
              "        google.colab.kernel.accessAllowed ? 'block' : 'none';\n",
              "    })();\n",
              "  </script>\n",
              "</div>\n",
              "\n",
              "    </div>\n",
              "  </div>\n"
            ],
            "text/plain": [
              "      CRIM    ZN  INDUS  CHAS    NOX     RM   AGE     DIS  RAD  TAX  PTRATIO  \\\n",
              "0  0.00632  18.0   2.31   0.0  0.538  6.575  65.2  4.0900    1  296     15.3   \n",
              "1  0.02731   0.0   7.07   0.0  0.469  6.421  78.9  4.9671    2  242     17.8   \n",
              "2  0.02729   0.0   7.07   0.0  0.469  7.185  61.1  4.9671    2  242     17.8   \n",
              "3  0.03237   0.0   2.18   0.0  0.458  6.998  45.8  6.0622    3  222     18.7   \n",
              "4  0.06905   0.0   2.18   0.0  0.458  7.147  54.2  6.0622    3  222     18.7   \n",
              "\n",
              "        B  LSTAT  MEDV  \n",
              "0  396.90   4.98  24.0  \n",
              "1  396.90   9.14  21.6  \n",
              "2  392.83   4.03  34.7  \n",
              "3  394.63   2.94  33.4  \n",
              "4  396.90    NaN  36.2  "
            ]
          },
          "execution_count": 67,
          "metadata": {},
          "output_type": "execute_result"
        }
      ],
      "source": [
        "dff=pd.read_csv('/content/HousingData.csv')\n",
        "dff.head()"
      ]
    },
    {
      "cell_type": "code",
      "execution_count": 68,
      "metadata": {
        "colab": {
          "base_uri": "https://localhost:8080/"
        },
        "id": "RwlpKubPQCt0",
        "outputId": "555cb270-7009-4787-b72b-3272a839f62f"
      },
      "outputs": [
        {
          "data": {
            "text/plain": [
              "CRIM       20\n",
              "ZN         20\n",
              "INDUS      20\n",
              "CHAS       20\n",
              "NOX         0\n",
              "RM          0\n",
              "AGE        20\n",
              "DIS         0\n",
              "RAD         0\n",
              "TAX         0\n",
              "PTRATIO     0\n",
              "B           0\n",
              "LSTAT      20\n",
              "MEDV        0\n",
              "dtype: int64"
            ]
          },
          "execution_count": 68,
          "metadata": {},
          "output_type": "execute_result"
        }
      ],
      "source": [
        "dff.isnull().sum()"
      ]
    },
    {
      "cell_type": "code",
      "execution_count": 71,
      "metadata": {
        "id": "GnmGSo14QGsV"
      },
      "outputs": [],
      "source": [
        "dff = dff.dropna()"
      ]
    },
    {
      "cell_type": "code",
      "execution_count": 72,
      "metadata": {
        "colab": {
          "base_uri": "https://localhost:8080/"
        },
        "id": "Ddad0yMyQI1g",
        "outputId": "dfff79cb-d324-4f60-d06a-7eb212220445"
      },
      "outputs": [
        {
          "data": {
            "text/plain": [
              "CRIM       0\n",
              "ZN         0\n",
              "INDUS      0\n",
              "CHAS       0\n",
              "NOX        0\n",
              "RM         0\n",
              "AGE        0\n",
              "DIS        0\n",
              "RAD        0\n",
              "TAX        0\n",
              "PTRATIO    0\n",
              "B          0\n",
              "LSTAT      0\n",
              "MEDV       0\n",
              "dtype: int64"
            ]
          },
          "execution_count": 72,
          "metadata": {},
          "output_type": "execute_result"
        }
      ],
      "source": [
        "dff.isnull().sum()"
      ]
    },
    {
      "cell_type": "code",
      "execution_count": 79,
      "metadata": {
        "id": "ggp5VqWnQLXg"
      },
      "outputs": [],
      "source": [
        "hm = dff.corr()"
      ]
    },
    {
      "cell_type": "code",
      "execution_count": 81,
      "metadata": {
        "colab": {
          "base_uri": "https://localhost:8080/",
          "height": 496
        },
        "id": "KOUXXtk0Qmha",
        "outputId": "0b6432d9-56f4-4e12-df17-53cc8ed10b1b"
      },
      "outputs": [
        {
          "data": {
            "text/plain": [
              "<Axes: >"
            ]
          },
          "execution_count": 81,
          "metadata": {},
          "output_type": "execute_result"
        },
        {
          "data": {
            "image/png": "[encoded data removed]",
            "text/plain": [
              "<Figure size 640x480 with 2 Axes>"
            ]
          },
          "metadata": {},
          "output_type": "display_data"
        }
      ],
      "source": [
        "sns.heatmap(hm,annot=True)"
      ]
    },
    {
      "cell_type": "code",
      "execution_count": 82,
      "metadata": {
        "colab": {
          "base_uri": "https://localhost:8080/"
        },
        "id": "2YKg1o8SRLGf",
        "outputId": "6cc40a99-8de1-477c-ceec-1aeb9f4ebf96"
      },
      "outputs": [
        {
          "data": {
            "text/plain": [
              "Index(['CRIM', 'ZN', 'INDUS', 'CHAS', 'NOX', 'RM', 'AGE', 'DIS', 'RAD', 'TAX',\n",
              "       'PTRATIO', 'B', 'LSTAT', 'MEDV'],\n",
              "      dtype='object')"
            ]
          },
          "execution_count": 82,
          "metadata": {},
          "output_type": "execute_result"
        }
      ],
      "source": [
        "dff.columns"
      ]
    },
    {
      "cell_type": "code",
      "execution_count": 85,
      "metadata": {
        "id": "lHqibjP-Qap4"
      },
      "outputs": [],
      "source": [
        "from sklearn.model_selection import train_test_split\n",
        "\n",
        "X = dff.drop(['CHAS', 'NOX', 'AGE', 'DIS', 'B', 'MEDV'], axis=1)\n",
        "Y = dff['MEDV']\n",
        "\n",
        "X_train, X_test, Y_train, Y_test = train_test_split(X,Y,test_size=0.2, random_state=13)"
      ]
    },
    {
      "cell_type": "code",
      "execution_count": 86,
      "metadata": {
        "id": "toDOjE_4R8Ql"
      },
      "outputs": [],
      "source": [
        "from sklearn.preprocessing import MinMaxScaler\n",
        "mms=MinMaxScaler()\n",
        "mms.fit(X_train)\n",
        "\n",
        "X_train = mms.transform(X_train)\n",
        "X_test = mms.transform(X_test)\n",
        "\n"
      ]
    },
    {
      "cell_type": "code",
      "execution_count": 95,
      "metadata": {
        "colab": {
          "base_uri": "https://localhost:8080/"
        },
        "id": "Q3INX3HnVdKL",
        "outputId": "23368929-3a74-4ac2-d8a3-25dd9509cc5d"
      },
      "outputs": [
        {
          "data": {
            "text/plain": [
              "(315, 8)"
            ]
          },
          "execution_count": 95,
          "metadata": {},
          "output_type": "execute_result"
        }
      ],
      "source": [
        "X_train.shape\n"
      ]
    },
    {
      "cell_type": "code",
      "execution_count": 96,
      "metadata": {
        "colab": {
          "base_uri": "https://localhost:8080/"
        },
        "id": "UDY7L2OETx65",
        "outputId": "477d899c-72fd-45d1-fb6d-529238c8be1c"
      },
      "outputs": [
        {
          "name": "stdout",
          "output_type": "stream",
          "text": [
            "Model: \"sequential_14\"\n",
            "_________________________________________________________________\n",
            " Layer (type)                Output Shape              Param #   \n",
            "=================================================================\n",
            " dense_18 (Dense)            (None, 128)               1152      \n",
            "                                                                 \n",
            " dense_19 (Dense)            (None, 64)                8256      \n",
            "                                                                 \n",
            " dense_20 (Dense)            (None, 1)                 65        \n",
            "                                                                 \n",
            "=================================================================\n",
            "Total params: 9473 (37.00 KB)\n",
            "Trainable params: 9473 (37.00 KB)\n",
            "Non-trainable params: 0 (0.00 Byte)\n",
            "_________________________________________________________________\n"
          ]
        }
      ],
      "source": [
        "model = Sequential()\n",
        "\n",
        "model.add(Dense(128, activation='relu', input_shape=(8, )))\n",
        "model.add(Dense(64, activation='relu'))\n",
        "model.add(Dense(1,activation='linear'))\n",
        "\n",
        "model.compile(optimizer='adam', loss='mse', metrics=['mae'])\n",
        "model.summary()"
      ]
    },
    {
      "cell_type": "code",
      "execution_count": 97,
      "metadata": {
        "colab": {
          "base_uri": "https://localhost:8080/"
        },
        "id": "Y2Jz41CwUyqA",
        "outputId": "6ee3a65f-ec91-427d-d3b5-1facb9dde71a"
      },
      "outputs": [
        {
          "name": "stdout",
          "output_type": "stream",
          "text": [
            "Epoch 1/100\n",
            "10/10 [==============================] - 1s 22ms/step - loss: 574.4414 - mae: 22.0456 - val_loss: 433.7780 - val_mae: 19.2950\n",
            "Epoch 2/100\n",
            "10/10 [==============================] - 0s 7ms/step - loss: 543.5562 - mae: 21.2703 - val_loss: 400.0051 - val_mae: 18.3137\n",
            "Epoch 3/100\n",
            "10/10 [==============================] - 0s 8ms/step - loss: 497.0294 - mae: 20.0722 - val_loss: 349.2841 - val_mae: 16.7421\n",
            "Epoch 4/100\n",
            "10/10 [==============================] - 0s 8ms/step - loss: 428.4153 - mae: 18.1771 - val_loss: 279.9008 - val_mae: 14.2702\n",
            "Epoch 5/100\n",
            "10/10 [==============================] - 0s 8ms/step - loss: 339.6268 - mae: 15.5954 - val_loss: 200.6680 - val_mae: 10.8054\n",
            "Epoch 6/100\n",
            "10/10 [==============================] - 0s 6ms/step - loss: 247.7602 - mae: 12.8408 - val_loss: 140.5942 - val_mae: 9.7756\n",
            "Epoch 7/100\n",
            "10/10 [==============================] - 0s 7ms/step - loss: 183.3754 - mae: 11.0479 - val_loss: 125.2633 - val_mae: 9.7984\n",
            "Epoch 8/100\n",
            "10/10 [==============================] - 0s 8ms/step - loss: 154.8721 - mae: 9.8859 - val_loss: 120.8643 - val_mae: 9.6148\n",
            "Epoch 9/100\n",
            "10/10 [==============================] - 0s 7ms/step - loss: 138.6964 - mae: 9.1725 - val_loss: 105.8766 - val_mae: 9.0158\n",
            "Epoch 10/100\n",
            "10/10 [==============================] - 0s 7ms/step - loss: 121.8465 - mae: 8.4688 - val_loss: 87.0926 - val_mae: 8.1251\n",
            "Epoch 11/100\n",
            "10/10 [==============================] - 0s 5ms/step - loss: 106.6838 - mae: 7.8223 - val_loss: 74.0400 - val_mae: 7.4862\n",
            "Epoch 12/100\n",
            "10/10 [==============================] - 0s 8ms/step - loss: 92.5437 - mae: 7.1532 - val_loss: 63.6036 - val_mae: 6.9702\n",
            "Epoch 13/100\n",
            "10/10 [==============================] - 0s 5ms/step - loss: 80.3049 - mae: 6.5585 - val_loss: 53.4516 - val_mae: 6.4618\n",
            "Epoch 14/100\n",
            "10/10 [==============================] - 0s 6ms/step - loss: 70.3378 - mae: 6.0783 - val_loss: 44.3220 - val_mae: 5.9200\n",
            "Epoch 15/100\n",
            "10/10 [==============================] - 0s 6ms/step - loss: 61.3632 - mae: 5.6035 - val_loss: 35.3821 - val_mae: 5.2154\n",
            "Epoch 16/100\n",
            "10/10 [==============================] - 0s 7ms/step - loss: 55.8455 - mae: 5.2793 - val_loss: 29.0250 - val_mae: 4.6651\n",
            "Epoch 17/100\n",
            "10/10 [==============================] - 0s 5ms/step - loss: 50.8496 - mae: 5.0424 - val_loss: 25.6899 - val_mae: 4.4396\n",
            "Epoch 18/100\n",
            "10/10 [==============================] - 0s 5ms/step - loss: 47.7825 - mae: 4.9197 - val_loss: 21.9993 - val_mae: 4.1545\n",
            "Epoch 19/100\n",
            "10/10 [==============================] - 0s 8ms/step - loss: 45.5092 - mae: 4.7652 - val_loss: 19.4366 - val_mae: 3.9357\n",
            "Epoch 20/100\n",
            "10/10 [==============================] - 0s 5ms/step - loss: 43.6855 - mae: 4.6774 - val_loss: 17.7429 - val_mae: 3.7767\n",
            "Epoch 21/100\n",
            "10/10 [==============================] - 0s 5ms/step - loss: 42.2585 - mae: 4.5352 - val_loss: 16.2196 - val_mae: 3.5500\n",
            "Epoch 22/100\n",
            "10/10 [==============================] - 0s 5ms/step - loss: 40.9846 - mae: 4.4825 - val_loss: 15.9009 - val_mae: 3.6431\n",
            "Epoch 23/100\n",
            "10/10 [==============================] - 0s 5ms/step - loss: 39.8695 - mae: 4.4826 - val_loss: 15.2795 - val_mae: 3.6078\n",
            "Epoch 24/100\n",
            "10/10 [==============================] - 0s 8ms/step - loss: 38.6993 - mae: 4.3820 - val_loss: 14.3886 - val_mae: 3.4889\n",
            "Epoch 25/100\n",
            "10/10 [==============================] - 0s 5ms/step - loss: 37.5154 - mae: 4.3219 - val_loss: 13.9501 - val_mae: 3.4585\n",
            "Epoch 26/100\n",
            "10/10 [==============================] - 0s 5ms/step - loss: 36.5381 - mae: 4.1720 - val_loss: 12.5179 - val_mae: 3.1728\n",
            "Epoch 27/100\n",
            "10/10 [==============================] - 0s 5ms/step - loss: 35.4520 - mae: 4.0752 - val_loss: 12.2110 - val_mae: 3.1478\n",
            "Epoch 28/100\n",
            "10/10 [==============================] - 0s 7ms/step - loss: 34.7640 - mae: 4.1013 - val_loss: 12.8734 - val_mae: 3.3210\n",
            "Epoch 29/100\n",
            "10/10 [==============================] - 0s 7ms/step - loss: 33.6526 - mae: 3.9872 - val_loss: 11.2673 - val_mae: 2.9784\n",
            "Epoch 30/100\n",
            "10/10 [==============================] - 0s 5ms/step - loss: 33.0253 - mae: 3.9451 - val_loss: 11.7455 - val_mae: 3.1311\n",
            "Epoch 31/100\n",
            "10/10 [==============================] - 0s 5ms/step - loss: 32.0782 - mae: 3.8795 - val_loss: 10.8364 - val_mae: 2.9480\n",
            "Epoch 32/100\n",
            "10/10 [==============================] - 0s 5ms/step - loss: 31.5922 - mae: 3.8927 - val_loss: 11.4631 - val_mae: 3.0759\n",
            "Epoch 33/100\n",
            "10/10 [==============================] - 0s 7ms/step - loss: 30.4492 - mae: 3.7551 - val_loss: 9.9694 - val_mae: 2.7459\n",
            "Epoch 34/100\n",
            "10/10 [==============================] - 0s 6ms/step - loss: 29.7667 - mae: 3.6818 - val_loss: 10.4429 - val_mae: 2.8588\n",
            "Epoch 35/100\n",
            "10/10 [==============================] - 0s 5ms/step - loss: 29.1695 - mae: 3.7472 - val_loss: 11.2471 - val_mae: 2.9833\n",
            "Epoch 36/100\n",
            "10/10 [==============================] - 0s 5ms/step - loss: 28.4332 - mae: 3.6548 - val_loss: 9.9984 - val_mae: 2.7370\n",
            "Epoch 37/100\n",
            "10/10 [==============================] - 0s 5ms/step - loss: 27.8646 - mae: 3.6033 - val_loss: 10.3349 - val_mae: 2.7754\n",
            "Epoch 38/100\n",
            "10/10 [==============================] - 0s 5ms/step - loss: 27.2612 - mae: 3.6034 - val_loss: 10.7465 - val_mae: 2.8184\n",
            "Epoch 39/100\n",
            "10/10 [==============================] - 0s 7ms/step - loss: 26.6988 - mae: 3.5111 - val_loss: 9.7006 - val_mae: 2.6061\n",
            "Epoch 40/100\n",
            "10/10 [==============================] - 0s 7ms/step - loss: 26.3359 - mae: 3.4963 - val_loss: 10.5091 - val_mae: 2.7428\n",
            "Epoch 41/100\n",
            "10/10 [==============================] - 0s 6ms/step - loss: 25.7952 - mae: 3.4696 - val_loss: 10.1700 - val_mae: 2.6737\n",
            "Epoch 42/100\n",
            "10/10 [==============================] - 0s 8ms/step - loss: 25.2845 - mae: 3.4120 - val_loss: 9.6210 - val_mae: 2.5700\n",
            "Epoch 43/100\n",
            "10/10 [==============================] - 0s 7ms/step - loss: 25.0018 - mae: 3.3988 - val_loss: 9.8973 - val_mae: 2.6563\n",
            "Epoch 44/100\n",
            "10/10 [==============================] - 0s 7ms/step - loss: 24.6670 - mae: 3.3514 - val_loss: 9.9149 - val_mae: 2.6717\n",
            "Epoch 45/100\n",
            "10/10 [==============================] - 0s 6ms/step - loss: 24.4480 - mae: 3.4320 - val_loss: 11.6519 - val_mae: 2.9717\n",
            "Epoch 46/100\n",
            "10/10 [==============================] - 0s 7ms/step - loss: 24.1078 - mae: 3.3410 - val_loss: 9.1938 - val_mae: 2.5203\n",
            "Epoch 47/100\n",
            "10/10 [==============================] - 0s 5ms/step - loss: 23.8802 - mae: 3.3111 - val_loss: 10.8539 - val_mae: 2.8255\n",
            "Epoch 48/100\n",
            "10/10 [==============================] - 0s 5ms/step - loss: 23.5725 - mae: 3.3097 - val_loss: 10.0795 - val_mae: 2.6833\n",
            "Epoch 49/100\n",
            "10/10 [==============================] - 0s 8ms/step - loss: 23.4124 - mae: 3.2500 - val_loss: 10.3472 - val_mae: 2.7317\n",
            "Epoch 50/100\n",
            "10/10 [==============================] - 0s 5ms/step - loss: 23.4065 - mae: 3.2812 - val_loss: 11.7608 - val_mae: 2.9614\n",
            "Epoch 51/100\n",
            "10/10 [==============================] - 0s 6ms/step - loss: 22.9784 - mae: 3.2509 - val_loss: 9.5941 - val_mae: 2.5872\n",
            "Epoch 52/100\n",
            "10/10 [==============================] - 0s 5ms/step - loss: 22.9962 - mae: 3.1758 - val_loss: 9.7865 - val_mae: 2.6222\n",
            "Epoch 53/100\n",
            "10/10 [==============================] - 0s 6ms/step - loss: 22.7533 - mae: 3.2236 - val_loss: 10.9071 - val_mae: 2.8212\n",
            "Epoch 54/100\n",
            "10/10 [==============================] - 0s 6ms/step - loss: 22.5852 - mae: 3.2486 - val_loss: 11.6126 - val_mae: 2.9303\n",
            "Epoch 55/100\n",
            "10/10 [==============================] - 0s 7ms/step - loss: 22.6170 - mae: 3.2838 - val_loss: 10.4260 - val_mae: 2.7308\n",
            "Epoch 56/100\n",
            "10/10 [==============================] - 0s 5ms/step - loss: 22.7144 - mae: 3.1459 - val_loss: 9.1239 - val_mae: 2.4913\n",
            "Epoch 57/100\n",
            "10/10 [==============================] - 0s 5ms/step - loss: 21.9471 - mae: 3.1622 - val_loss: 12.5767 - val_mae: 3.0715\n",
            "Epoch 58/100\n",
            "10/10 [==============================] - 0s 7ms/step - loss: 22.3701 - mae: 3.2971 - val_loss: 10.9789 - val_mae: 2.8249\n",
            "Epoch 59/100\n",
            "10/10 [==============================] - 0s 9ms/step - loss: 22.0097 - mae: 3.1763 - val_loss: 10.2526 - val_mae: 2.6952\n",
            "Epoch 60/100\n",
            "10/10 [==============================] - 0s 7ms/step - loss: 22.0116 - mae: 3.1296 - val_loss: 9.9514 - val_mae: 2.6350\n",
            "Epoch 61/100\n",
            "10/10 [==============================] - 0s 6ms/step - loss: 21.7951 - mae: 3.1532 - val_loss: 11.3360 - val_mae: 2.8647\n",
            "Epoch 62/100\n",
            "10/10 [==============================] - 0s 5ms/step - loss: 21.8197 - mae: 3.2095 - val_loss: 10.7528 - val_mae: 2.7700\n",
            "Epoch 63/100\n",
            "10/10 [==============================] - 0s 8ms/step - loss: 21.6594 - mae: 3.1366 - val_loss: 10.2887 - val_mae: 2.6913\n",
            "Epoch 64/100\n",
            "10/10 [==============================] - 0s 6ms/step - loss: 21.6956 - mae: 3.1206 - val_loss: 10.7043 - val_mae: 2.7693\n",
            "Epoch 65/100\n",
            "10/10 [==============================] - 0s 6ms/step - loss: 21.5000 - mae: 3.1706 - val_loss: 11.5742 - val_mae: 2.9168\n",
            "Epoch 66/100\n",
            "10/10 [==============================] - 0s 8ms/step - loss: 21.5321 - mae: 3.1673 - val_loss: 10.5877 - val_mae: 2.7530\n",
            "Epoch 67/100\n",
            "10/10 [==============================] - 0s 7ms/step - loss: 21.3300 - mae: 3.1054 - val_loss: 10.1951 - val_mae: 2.6793\n",
            "Epoch 68/100\n",
            "10/10 [==============================] - 0s 6ms/step - loss: 21.2069 - mae: 3.1255 - val_loss: 11.1096 - val_mae: 2.8367\n",
            "Epoch 69/100\n",
            "10/10 [==============================] - 0s 7ms/step - loss: 21.3065 - mae: 3.1157 - val_loss: 10.1349 - val_mae: 2.6672\n",
            "Epoch 70/100\n",
            "10/10 [==============================] - 0s 8ms/step - loss: 21.1911 - mae: 3.1501 - val_loss: 10.9784 - val_mae: 2.8207\n",
            "Epoch 71/100\n",
            "10/10 [==============================] - 0s 7ms/step - loss: 21.0004 - mae: 3.0934 - val_loss: 9.7275 - val_mae: 2.5902\n",
            "Epoch 72/100\n",
            "10/10 [==============================] - 0s 6ms/step - loss: 20.9307 - mae: 3.0715 - val_loss: 10.4074 - val_mae: 2.7193\n",
            "Epoch 73/100\n",
            "10/10 [==============================] - 0s 9ms/step - loss: 20.8555 - mae: 3.1215 - val_loss: 10.4901 - val_mae: 2.7393\n",
            "Epoch 74/100\n",
            "10/10 [==============================] - 0s 5ms/step - loss: 20.7477 - mae: 3.0937 - val_loss: 10.0264 - val_mae: 2.6463\n",
            "Epoch 75/100\n",
            "10/10 [==============================] - 0s 5ms/step - loss: 20.6841 - mae: 3.0767 - val_loss: 10.5454 - val_mae: 2.7517\n",
            "Epoch 76/100\n",
            "10/10 [==============================] - 0s 5ms/step - loss: 20.5725 - mae: 3.0754 - val_loss: 10.6515 - val_mae: 2.7643\n",
            "Epoch 77/100\n",
            "10/10 [==============================] - 0s 6ms/step - loss: 20.7195 - mae: 3.1387 - val_loss: 10.3586 - val_mae: 2.7113\n",
            "Epoch 78/100\n",
            "10/10 [==============================] - 0s 5ms/step - loss: 20.5341 - mae: 3.0306 - val_loss: 9.1695 - val_mae: 2.4626\n",
            "Epoch 79/100\n",
            "10/10 [==============================] - 0s 5ms/step - loss: 20.3883 - mae: 3.0401 - val_loss: 10.7888 - val_mae: 2.7934\n",
            "Epoch 80/100\n",
            "10/10 [==============================] - 0s 5ms/step - loss: 20.3499 - mae: 3.0621 - val_loss: 10.4843 - val_mae: 2.7515\n",
            "Epoch 81/100\n",
            "10/10 [==============================] - 0s 6ms/step - loss: 20.3224 - mae: 3.0936 - val_loss: 10.8076 - val_mae: 2.8028\n",
            "Epoch 82/100\n",
            "10/10 [==============================] - 0s 6ms/step - loss: 20.1458 - mae: 3.0521 - val_loss: 10.2278 - val_mae: 2.7072\n",
            "Epoch 83/100\n",
            "10/10 [==============================] - 0s 5ms/step - loss: 20.0714 - mae: 3.0121 - val_loss: 10.1860 - val_mae: 2.7056\n",
            "Epoch 84/100\n",
            "10/10 [==============================] - 0s 7ms/step - loss: 20.1126 - mae: 3.0631 - val_loss: 10.6610 - val_mae: 2.7981\n",
            "Epoch 85/100\n",
            "10/10 [==============================] - 0s 8ms/step - loss: 20.0777 - mae: 3.0072 - val_loss: 9.5240 - val_mae: 2.5749\n",
            "Epoch 86/100\n",
            "10/10 [==============================] - 0s 11ms/step - loss: 19.9112 - mae: 3.0808 - val_loss: 11.6732 - val_mae: 2.9340\n",
            "Epoch 87/100\n",
            "10/10 [==============================] - 0s 11ms/step - loss: 19.9872 - mae: 3.0584 - val_loss: 9.2551 - val_mae: 2.5141\n",
            "Epoch 88/100\n",
            "10/10 [==============================] - 0s 9ms/step - loss: 19.9274 - mae: 3.0253 - val_loss: 10.9677 - val_mae: 2.8427\n",
            "Epoch 89/100\n",
            "10/10 [==============================] - 0s 11ms/step - loss: 20.1268 - mae: 3.0040 - val_loss: 9.6221 - val_mae: 2.6043\n",
            "Epoch 90/100\n",
            "10/10 [==============================] - 0s 10ms/step - loss: 19.7721 - mae: 3.0760 - val_loss: 11.9892 - val_mae: 3.0111\n",
            "Epoch 91/100\n",
            "10/10 [==============================] - 0s 11ms/step - loss: 19.6673 - mae: 3.0289 - val_loss: 9.1088 - val_mae: 2.5085\n",
            "Epoch 92/100\n",
            "10/10 [==============================] - 0s 10ms/step - loss: 19.5192 - mae: 3.0063 - val_loss: 11.4662 - val_mae: 2.9202\n",
            "Epoch 93/100\n",
            "10/10 [==============================] - 0s 7ms/step - loss: 19.6319 - mae: 3.0133 - val_loss: 9.2911 - val_mae: 2.5389\n",
            "Epoch 94/100\n",
            "10/10 [==============================] - 0s 9ms/step - loss: 19.3446 - mae: 3.0170 - val_loss: 11.9255 - val_mae: 2.9913\n",
            "Epoch 95/100\n",
            "10/10 [==============================] - 0s 11ms/step - loss: 19.5351 - mae: 3.0787 - val_loss: 10.2747 - val_mae: 2.7399\n",
            "Epoch 96/100\n",
            "10/10 [==============================] - 0s 8ms/step - loss: 19.2069 - mae: 2.9860 - val_loss: 9.7653 - val_mae: 2.6438\n",
            "Epoch 97/100\n",
            "10/10 [==============================] - 0s 9ms/step - loss: 19.1030 - mae: 2.9772 - val_loss: 10.1286 - val_mae: 2.7163\n",
            "Epoch 98/100\n",
            "10/10 [==============================] - 0s 9ms/step - loss: 19.0937 - mae: 2.9771 - val_loss: 9.4153 - val_mae: 2.5890\n",
            "Epoch 99/100\n",
            "10/10 [==============================] - 0s 10ms/step - loss: 19.1019 - mae: 2.9196 - val_loss: 9.7723 - val_mae: 2.6470\n",
            "Epoch 100/100\n",
            "10/10 [==============================] - 0s 10ms/step - loss: 18.7920 - mae: 2.9724 - val_loss: 11.8648 - val_mae: 2.9867\n"
          ]
        }
      ],
      "source": [
        "history = model.fit(X_train, Y_train, epochs=100, validation_split=0.05, verbose=1)"
      ]
    },
    {
      "cell_type": "code",
      "execution_count": 98,
      "metadata": {
        "colab": {
          "base_uri": "https://localhost:8080/"
        },
        "id": "tLkhBWn1VR4W",
        "outputId": "a2247d16-7867-44c4-e66b-97f956748be3"
      },
      "outputs": [
        {
          "name": "stdout",
          "output_type": "stream",
          "text": [
            "3/3 [==============================] - 0s 7ms/step - loss: 7.2168 - mae: 2.0997\n",
            "mae 7.216836452484131\n",
            "mse 2.0997474193573\n"
          ]
        }
      ],
      "source": [
        "mse, mae = model.evaluate(X_test, Y_test)\n",
        "print ('mae', mae)\n",
        "print ('mse', mse)\n"
      ]
    },
    {
      "cell_type": "code",
      "execution_count": null,
      "metadata": {
        "id": "PnfhNh0NV3nR"
      },
      "outputs": [],
      "source": []
    }
  ],
  "metadata": {
    "colab": {
      "include_colab_link": true,
      "provenance": []
    },
    "kernelspec": {
      "display_name": "Python 3",
      "name": "python3"
    },
    "language_info": {
      "codemirror_mode": {
        "name": "ipython",
        "version": 3
      },
      "file_extension": ".py",
      "mimetype": "text/x-python",
      "name": "python",
      "nbconvert_exporter": "python",
      "pygments_lexer": "ipython3",
      "version": "3.11.2"
    }
  },
  "nbformat": 4,
  "nbformat_minor": 0
}
